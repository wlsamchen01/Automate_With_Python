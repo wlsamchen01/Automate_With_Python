{
 "cells": [
  {
   "cell_type": "markdown",
   "id": "a38fd2b8",
   "metadata": {},
   "source": [
    "# Gensim - Automated Text Summarisation\n",
    "\n",
    "- The gensim implementation is based on the popular \"TextRank\" algorithm.\n",
    "- TextRank algorithm is a graph-based ranking model for text processing.\n",
    "- \"Gensim is a Python library for topic modelling, document indexing and similarity retrieval with large corpora. Target audience is the natural language processing (NLP) and information retrieval (IR) community."
   ]
  },
  {
   "cell_type": "code",
   "execution_count": 1,
   "id": "c3b8f066",
   "metadata": {},
   "outputs": [],
   "source": [
    "from bs4 import BeautifulSoup\n",
    "from requests import get\n"
   ]
  },
  {
   "cell_type": "markdown",
   "id": "fcbee076",
   "metadata": {},
   "source": [
    "### Create a Function to Extract only Text from \\<p> Tags"
   ]
  },
  {
   "cell_type": "code",
   "execution_count": 2,
   "id": "ebbbbc6d",
   "metadata": {},
   "outputs": [],
   "source": [
    "def get_only_text(url):\n",
    "    \"\"\"\n",
    "    return the title and the text of the article\n",
    "    at the specified url\n",
    "    \"\"\"\n",
    "    page = get(url)\n",
    "    soup = BeautifulSoup(page.content, 'lxml')\n",
    "    text = \" \".join(map(lambda p: p.text, soup.find_all(\"p\")))\n",
    "    \n",
    "    title = \" \".join(soup.title.stripped_strings)\n",
    "    return title, text"
   ]
  },
  {
   "cell_type": "markdown",
   "id": "a301a8fe",
   "metadata": {},
   "source": [
    "### Calling the function with the desired News URL"
   ]
  },
  {
   "cell_type": "code",
   "execution_count": 3,
   "id": "8fe8830f",
   "metadata": {},
   "outputs": [],
   "source": [
    "title, text = get_only_text(\"https://en.wikinews.org/wiki/Global_markets_plunge\")"
   ]
  },
  {
   "cell_type": "code",
   "execution_count": 4,
   "id": "a0e342df",
   "metadata": {},
   "outputs": [
    {
     "data": {
      "text/plain": [
       "'Global markets plunge - Wikinews, the free news source'"
      ]
     },
     "execution_count": 4,
     "metadata": {},
     "output_type": "execute_result"
    }
   ],
   "source": [
    "title"
   ]
  },
  {
   "cell_type": "code",
   "execution_count": 5,
   "id": "12afaeb4",
   "metadata": {},
   "outputs": [
    {
     "data": {
      "text/plain": [
       "'Friday, October 10, 2008\\xa0\\n Stock markets across the world have fallen sharply with several seeing the biggest drop in their history. \\n Asian markets saw the biggest sell-off. The Nikkei dropped 9.62% to reach a 20 year low. Japan also saw a collapse of a mid-size insurance company, Yamato Life Insurance Company, which declared bankruptcy.  The Hang Seng, which was one of the few markets that was positive yesterday, fell 7.19%. Australia dropped by 8.4% and South Korea saw a 9% fall. \\n In Europe, markets dropped at the open with the FTSE losing 11%. They have recovered only sightly with all European markets losing more than 5%. The European sell off was more about the Asian lows then any specific news. European banks and financial institutes saw the most selling. Also, oil related companies saw large drops as an result of an expected decrease in oil consumption. \\n\\n The U.S. markets opened lower with the Dow Jones Industrial Average falling below 8,000, before recovering slightly.  President George W. Bush made an address on the economy and said markets were being \"driven by uncertainty and fear.\"\\n Oil has seen losses of more than US$6 in trading with the current price of a barrel of oil less than $80. This is a year low for oil. News also came out that OPEC will hold an emergency meeting on November 18 to discuss the falling price of oil. \\n Charities, such as Cats Protection, today said that they have lost much of their funds in collapsing banks. Cats Protection had a total of £11.2 million saved in the now-collapsed Kaupthing bank.\\n The British National Council for Voluntary Organisations said that 60 of its 6,500 have lost money due to the collapse of banks.\\n The Dow Jones Industrial Average fell to its lowest level in five years at 8,579.19, falling 679 points in one day. This, at 7.3%, is the eleventh largest percentage fall in the history of the index. The growth then continued, with the index being up over 150 points on the start of the day at one point.\\n The index, did however, recover, and as of 19:30 UTC was up 17.68 points, or 0.21%, pushing the index up to almost 8600. \\n Peter Cardillo, chief market economist at Avalon Partners, commented on these massive falls. \"What we\\'ve seen here was one big margin call that just kept feeding on itself, so the opposite could happen. But you need a catalyst,\" he said. \"I\\'m more convinced now than ever that this market has made a bottom. The capitulation came when we breached 8,000,\" he continued. \"It doesn\\'t mean we can\\'t go back and revisit that level.\"\\n The UK\\'s FTSE 100 index fell dramatically to close below 4000, in the index\\'s worst week in history. This is despite the fact that just a few days ago the index was above 5000, and the index peaked above 5500 in September.The FTSE 100 index has fallen by 41% this year.\\n Barclays Wealth analyst Henk Potts commented on this massive fall. “We are drowning in a sea of red numbers,” he claimed. “Investors are concerned about the exacerbation of the credit crunch and the gloomy forecasts for economic growth. The reality is that most investors have been spooked by the sheer pressure that the credit crunch is putting on the global economy.”\\n The Japanese Nikkei 225 has recorded it\\'s third biggest drop in history with a massive sell-off in the exchange that has resulted in USD 250 billion being knocked of the index\\'s value.\\n Toyota, which is the second largest carmaker in the world, fell by the largest amount in 21 years, while Elpida Memory, the world\\'s largest manufacturer of computer memory, dropped in value to a record low.\\n Masafumi Oshiden, a fund manager in Toyota commented on the drop.\"It\\'s capitulation,\" he said. \"There are lots of forced sellers. If you\\'re a fund that\\'s going bust you need to close out all your positions.\"\\n George W. Bush commented on the financial situation earlier today. \"Over the past few days, we have witnessed a startling drop in the stock market -- much of it driven by uncertainty and fear,\" he said. \"This has been a deeply unsettling period for the American people. Many of our citizens have serious concerns about their retirement accounts, their investments, and their economic well-being.\"\\n Bush then continued by promoting the government\\'s plan\\'s to get through the crises. \"Here\\'s what the American people need to know: that the United States government is acting; we will continue to act to resolve this crisis and restore stability to our markets. We are a prosperous nation with immense resources and a wide range of tools at our disposal. We\\'re using these tools aggressively.\"\\n Gordon Brown, the UK Prime Minister, also spoke on the economy. “I think we quickly realised that we cannot solve the problems we have got as a result of the sub-prime market collapse simply by improving liquidity,\" he said speaking in Birmingham to business leaders earlier today. “That would simply not be enough to deal with the bigger problem of rebuilding the banking system for the future and restoring trust is a fundamental element of that.”\\n Jim Flaherty, the Canadian minister for finance, also commented today on the recent incidents in the economy. \"It is important to underline that Canada\\'s banks and other financial institutions are sound, well capitalized and less leveraged than their international peers,\" he claimed. \"Our mortgage system is sound. Canadian households have smaller mortgages relative both to the value of their homes and to their disposable incomes than in the U.S.\"\\n \"\"However, it is becoming increasingly clear that the continuing disruption of global credit markets, which has been severe and protracted, is making it difficult for our financial institutions to raise long-term funding. This is beginning to affect the availability of mortgage loans and other types of credit in Canada,\" he continued. \"The Government has therefore decided to act to address the current scarcity of private sector lending to Canadian mortgage markets and lending markets overall. This is going to make loans and mortgages more available and more affordable for ordinary Canadians and businesses.\"\\n \\n Have an opinion on this story? Share it!\\n Share this:\\xa0\\n\\n\\n\\n\\n\\n \\n This page is archived, and is no longer publicly editable.\\n Got a correction? Add the template {{editprotected}} to the talk page along with your corrections, and it will be brought to the attention of the administrators.\\n Please note that due to our archival policy, we will not alter or update the content of articles that are archived, but will only accept requests to make grammatical and formatting corrections.\\n Note that some listed sources or external links may no longer be available online due to age.\\n Got a correction? Add the template {{editprotected}} to the talk page along with your corrections, and it will be brought to the attention of the administrators.\\n Please note that due to our archival policy, we will not alter or update the content of articles that are archived, but will only accept requests to make grammatical and formatting corrections.\\n'"
      ]
     },
     "execution_count": 5,
     "metadata": {},
     "output_type": "execute_result"
    }
   ],
   "source": [
    "text"
   ]
  },
  {
   "cell_type": "markdown",
   "id": "e5498c94",
   "metadata": {},
   "source": [
    "### Number of Words -  Original Text"
   ]
  },
  {
   "cell_type": "code",
   "execution_count": 6,
   "id": "7f48952e",
   "metadata": {},
   "outputs": [
    {
     "data": {
      "text/plain": [
       "1174"
      ]
     },
     "execution_count": 6,
     "metadata": {},
     "output_type": "execute_result"
    }
   ],
   "source": [
    "len(str.split(text))"
   ]
  },
  {
   "cell_type": "markdown",
   "id": "2cbaf0b1",
   "metadata": {},
   "source": [
    "## Summarisation - using Gensim"
   ]
  },
  {
   "cell_type": "code",
   "execution_count": 7,
   "id": "483db758",
   "metadata": {},
   "outputs": [],
   "source": [
    "# summarization has been removed from gensim version 4\n",
    "# must use version 3.8.3: python -m pip install \"gensim==3.8.3\"\n",
    "from gensim.summarization.summarizer import summarize\n",
    "from gensim.summarization import keywords"
   ]
  },
  {
   "cell_type": "markdown",
   "id": "fcab43ee",
   "metadata": {},
   "source": [
    "### Printing the Summarised Text\n",
    "\n",
    "### Method 1 - Word Count"
   ]
  },
  {
   "cell_type": "code",
   "execution_count": 8,
   "id": "5500f655",
   "metadata": {},
   "outputs": [
    {
     "name": "stdout",
     "output_type": "stream",
     "text": [
      "Title: Global markets plunge - Wikinews, the free news source\n",
      "Summary: \n",
      "Bush made an address on the economy and said markets were being \"driven by uncertainty and fear.\"\n",
      "Charities, such as Cats Protection, today said that they have lost much of their funds in collapsing banks.\n",
      "The Dow Jones Industrial Average fell to its lowest level in five years at 8,579.19, falling 679 points in one day.\n",
      "“I think we quickly realised that we cannot solve the problems we have got as a result of the sub-prime market collapse simply by improving liquidity,\" he said speaking in Birmingham to business leaders earlier today.\n"
     ]
    }
   ],
   "source": [
    "print(\"Title: \" + title)\n",
    "print(\"Summary: \")\n",
    "print(summarize(text, word_count=100))"
   ]
  },
  {
   "cell_type": "code",
   "execution_count": 9,
   "id": "a662fbec",
   "metadata": {},
   "outputs": [
    {
     "name": "stdout",
     "output_type": "stream",
     "text": [
      "Title: Global markets plunge - Wikinews, the free news source\n",
      "Summary: \n",
      "Charities, such as Cats Protection, today said that they have lost much of their funds in collapsing banks.\n",
      "The Dow Jones Industrial Average fell to its lowest level in five years at 8,579.19, falling 679 points in one day.\n"
     ]
    }
   ],
   "source": [
    "print(\"Title: \" + title)\n",
    "print(\"Summary: \")\n",
    "print(summarize(text, ratio=0.03))"
   ]
  },
  {
   "cell_type": "markdown",
   "id": "6f51bd47",
   "metadata": {},
   "source": [
    "### Method 2 - Keywords"
   ]
  },
  {
   "cell_type": "code",
   "execution_count": 11,
   "id": "7512c6ec",
   "metadata": {},
   "outputs": [
    {
     "name": "stdout",
     "output_type": "stream",
     "text": [
      "Keywords: \n"
     ]
    },
    {
     "ename": "TypeError",
     "evalue": "'ratio' is an invalid keyword argument for print()",
     "output_type": "error",
     "traceback": [
      "\u001b[1;31m---------------------------------------------------------------------------\u001b[0m",
      "\u001b[1;31mTypeError\u001b[0m                                 Traceback (most recent call last)",
      "\u001b[1;32m<ipython-input-11-c8572e321209>\u001b[0m in \u001b[0;36m<module>\u001b[1;34m\u001b[0m\n\u001b[0;32m      1\u001b[0m \u001b[0mprint\u001b[0m\u001b[1;33m(\u001b[0m\u001b[1;34m\"Keywords: \"\u001b[0m\u001b[1;33m)\u001b[0m\u001b[1;33m\u001b[0m\u001b[1;33m\u001b[0m\u001b[0m\n\u001b[1;32m----> 2\u001b[1;33m \u001b[0mprint\u001b[0m\u001b[1;33m(\u001b[0m\u001b[0mkeywords\u001b[0m\u001b[1;33m(\u001b[0m\u001b[0mtext\u001b[0m\u001b[1;33m)\u001b[0m\u001b[1;33m,\u001b[0m \u001b[0mratio\u001b[0m\u001b[1;33m=\u001b[0m\u001b[1;36m0.1\u001b[0m\u001b[1;33m,\u001b[0m \u001b[0mlemmatize\u001b[0m\u001b[1;33m=\u001b[0m\u001b[1;32mTrue\u001b[0m\u001b[1;33m)\u001b[0m\u001b[1;33m\u001b[0m\u001b[1;33m\u001b[0m\u001b[0m\n\u001b[0m",
      "\u001b[1;31mTypeError\u001b[0m: 'ratio' is an invalid keyword argument for print()"
     ]
    }
   ],
   "source": [
    "print(\"Keywords: \")\n",
    "print(keywords(text), ratio=0.1, lemmatize=True)"
   ]
  },
  {
   "cell_type": "code",
   "execution_count": null,
   "id": "28d46289",
   "metadata": {},
   "outputs": [],
   "source": []
  }
 ],
 "metadata": {
  "kernelspec": {
   "display_name": "Python 3",
   "language": "python",
   "name": "python3"
  },
  "language_info": {
   "codemirror_mode": {
    "name": "ipython",
    "version": 3
   },
   "file_extension": ".py",
   "mimetype": "text/x-python",
   "name": "python",
   "nbconvert_exporter": "python",
   "pygments_lexer": "ipython3",
   "version": "3.8.9"
  }
 },
 "nbformat": 4,
 "nbformat_minor": 5
}
