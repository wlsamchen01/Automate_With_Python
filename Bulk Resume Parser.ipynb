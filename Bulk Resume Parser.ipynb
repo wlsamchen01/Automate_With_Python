{
 "cells": [
  {
   "cell_type": "markdown",
   "id": "766c1411",
   "metadata": {},
   "source": [
    "import pdfminer - pdf to text\n",
    "\n",
    "- pip3 install pdfminer.six\n",
    "\n",
    "import spacy - nlp\n",
    "\n",
    "- pip3 install spacy\n",
    "- python -m spacy download en_core_web_sm\n",
    "\n",
    "\n",
    "\n",
    "import re - regex\n",
    "\n",
    "import os - os file path\n",
    "\n",
    "import pandas as pd - output csv"
   ]
  },
  {
   "cell_type": "markdown",
   "id": "8f6a5813",
   "metadata": {},
   "source": [
    "# Regex\n",
    "\n",
    "Metacharacters:\n",
    "\n",
    "^$.|{ }[ ]*+?\\\n",
    "\n",
    "- | separates alternatives, aka or\n",
    "\n",
    "- Parenteses () are used to define the scope and precedence of the operators\n",
    "\n",
    "- ? indicates zero or one occurences of the preceding element\n",
    "\n",
    "- * indicates zero or more occurences of the preceding element. e.g. ab*c matches \"ac\", \"abc\", \"abbc\", \"abbbc\", and so on.\n",
    "\n",
    "###  RE Methods\n",
    "\n",
    "re.match()\n",
    "- returns a match object instance if zero or more characters the beginning of the string match the regular expression.\n",
    "\n",
    "re.search()\n",
    "- returns a match object instance if part of the string contains zero or more characters match the regular expression. the match object contains the location of the first \"match\".\n",
    "\n",
    "re.findall()\n",
    "\n",
    "re.split()\n",
    "\n",
    "re.sub()\n",
    "\n",
    "re.compile()\n",
    "\n"
   ]
  },
  {
   "cell_type": "code",
   "execution_count": 1,
   "id": "43349774",
   "metadata": {},
   "outputs": [
    {
     "data": {
      "text/plain": [
       "<re.Match object; span=(0, 4), match='Best'>"
      ]
     },
     "execution_count": 1,
     "metadata": {},
     "output_type": "execute_result"
    }
   ],
   "source": [
    "import re\n",
    "\n",
    "text = \"Best Python course\"\n",
    "\n",
    "re.match(\"Best\", text)"
   ]
  },
  {
   "cell_type": "code",
   "execution_count": 2,
   "id": "aef495c9",
   "metadata": {},
   "outputs": [
    {
     "data": {
      "text/plain": [
       "<re.Match object; span=(0, 4), match='Best'>"
      ]
     },
     "execution_count": 2,
     "metadata": {},
     "output_type": "execute_result"
    }
   ],
   "source": [
    "re.match(\"Best|Good\", text)"
   ]
  },
  {
   "cell_type": "code",
   "execution_count": 3,
   "id": "51e21fa2",
   "metadata": {},
   "outputs": [
    {
     "data": {
      "text/plain": [
       "<re.Match object; span=(0, 4), match='Good'>"
      ]
     },
     "execution_count": 3,
     "metadata": {},
     "output_type": "execute_result"
    }
   ],
   "source": [
    "text2 = \"Good Python Course\"\n",
    "re.match(\"Best|Good\", text2)"
   ]
  },
  {
   "cell_type": "code",
   "execution_count": 4,
   "id": "0d3d1529",
   "metadata": {},
   "outputs": [
    {
     "data": {
      "text/plain": [
       "<re.Match object; span=(0, 4), match='Good'>"
      ]
     },
     "execution_count": 4,
     "metadata": {},
     "output_type": "execute_result"
    }
   ],
   "source": [
    "text2 = \"Good Best Python Course\"\n",
    "re.search(\"Best|Good\", text2)"
   ]
  },
  {
   "cell_type": "code",
   "execution_count": 5,
   "id": "f8e7f9f4",
   "metadata": {},
   "outputs": [],
   "source": [
    "# returns nothing\n",
    "re.match(\"Course\",text2)"
   ]
  },
  {
   "cell_type": "code",
   "execution_count": 6,
   "id": "abe7247d",
   "metadata": {},
   "outputs": [
    {
     "data": {
      "text/plain": [
       "['Good', 'Best']"
      ]
     },
     "execution_count": 6,
     "metadata": {},
     "output_type": "execute_result"
    }
   ],
   "source": [
    "re.findall(\"Best|Good\", text2)"
   ]
  },
  {
   "cell_type": "code",
   "execution_count": 7,
   "id": "ca60628a",
   "metadata": {},
   "outputs": [
    {
     "data": {
      "text/plain": [
       "[]"
      ]
     },
     "execution_count": 7,
     "metadata": {},
     "output_type": "execute_result"
    }
   ],
   "source": [
    "re.findall('AAAAAAAAA', text2)"
   ]
  },
  {
   "cell_type": "markdown",
   "id": "79d534a0",
   "metadata": {},
   "source": [
    "# Basic Overview of Spacy Functions\n",
    "\n",
    "\n"
   ]
  },
  {
   "cell_type": "code",
   "execution_count": 8,
   "id": "dd052e72",
   "metadata": {},
   "outputs": [],
   "source": [
    "import spacy"
   ]
  },
  {
   "cell_type": "markdown",
   "id": "84ca1a80",
   "metadata": {},
   "source": [
    "### Load English tokenizer, tagger, parser, NER and word vectors"
   ]
  },
  {
   "cell_type": "code",
   "execution_count": 9,
   "id": "0aa2e1a4",
   "metadata": {},
   "outputs": [],
   "source": [
    "nlp = spacy.load('en_core_web_sm')"
   ]
  },
  {
   "cell_type": "markdown",
   "id": "8a2245dd",
   "metadata": {},
   "source": [
    "### Sample Text"
   ]
  },
  {
   "cell_type": "code",
   "execution_count": 10,
   "id": "177ac4a2",
   "metadata": {},
   "outputs": [],
   "source": [
    "# Process whole documents\n",
    "text = \"Google was initially funded by an August 1998 contribution of $100,000 from Andy Bechtolsheim, co-founder of Sun Microsystems; the money was given before Google was incorporated.[30] Google received money from three other angel investors in 1998: Amazon.com founder Jeff Bezos, Stanford University computer science professor David Cheriton, and entrepreneur Ram Shriram.[31] Between these initial investors, friends, and family Google raised around 1 million dollars, which is what allowed them to open up their original shop in Menlo Park, California\""
   ]
  },
  {
   "cell_type": "code",
   "execution_count": 11,
   "id": "e7516759",
   "metadata": {},
   "outputs": [
    {
     "data": {
      "text/plain": [
       "'Google was initially funded by an August 1998 contribution of $100,000 from Andy Bechtolsheim, co-founder of Sun Microsystems; the money was given before Google was incorporated.[30] Google received money from three other angel investors in 1998: Amazon.com founder Jeff Bezos, Stanford University computer science professor David Cheriton, and entrepreneur Ram Shriram.[31] Between these initial investors, friends, and family Google raised around 1 million dollars, which is what allowed them to open up their original shop in Menlo Park, California'"
      ]
     },
     "execution_count": 11,
     "metadata": {},
     "output_type": "execute_result"
    }
   ],
   "source": [
    "text"
   ]
  },
  {
   "cell_type": "markdown",
   "id": "cc0decb2",
   "metadata": {},
   "source": [
    "### NLP at Work"
   ]
  },
  {
   "cell_type": "code",
   "execution_count": 12,
   "id": "d8a78f49",
   "metadata": {},
   "outputs": [],
   "source": [
    "doc = nlp(text)"
   ]
  },
  {
   "cell_type": "code",
   "execution_count": 13,
   "id": "2f40bc70",
   "metadata": {},
   "outputs": [
    {
     "data": {
      "text/plain": [
       "Google was initially funded by an August 1998 contribution of $100,000 from Andy Bechtolsheim, co-founder of Sun Microsystems; the money was given before Google was incorporated.[30] Google received money from three other angel investors in 1998: Amazon.com founder Jeff Bezos, Stanford University computer science professor David Cheriton, and entrepreneur Ram Shriram.[31] Between these initial investors, friends, and family Google raised around 1 million dollars, which is what allowed them to open up their original shop in Menlo Park, California"
      ]
     },
     "execution_count": 13,
     "metadata": {},
     "output_type": "execute_result"
    }
   ],
   "source": [
    "doc"
   ]
  },
  {
   "cell_type": "markdown",
   "id": "29166f08",
   "metadata": {},
   "source": [
    "### Tokenisation"
   ]
  },
  {
   "cell_type": "code",
   "execution_count": 14,
   "id": "e43ba2dc",
   "metadata": {},
   "outputs": [
    {
     "name": "stdout",
     "output_type": "stream",
     "text": [
      "Google\n",
      "was\n",
      "initially\n",
      "funded\n",
      "by\n",
      "an\n",
      "August\n",
      "1998\n",
      "contribution\n",
      "of\n",
      "$\n",
      "100,000\n",
      "from\n",
      "Andy\n",
      "Bechtolsheim\n",
      ",\n",
      "co\n",
      "-\n",
      "founder\n",
      "of\n",
      "Sun\n",
      "Microsystems\n",
      ";\n",
      "the\n",
      "money\n",
      "was\n",
      "given\n",
      "before\n",
      "Google\n",
      "was\n",
      "incorporated.[30\n",
      "]\n",
      "Google\n",
      "received\n",
      "money\n",
      "from\n",
      "three\n",
      "other\n",
      "angel\n",
      "investors\n",
      "in\n",
      "1998\n",
      ":\n",
      "Amazon.com\n",
      "founder\n",
      "Jeff\n",
      "Bezos\n",
      ",\n",
      "Stanford\n",
      "University\n",
      "computer\n",
      "science\n",
      "professor\n",
      "David\n",
      "Cheriton\n",
      ",\n",
      "and\n",
      "entrepreneur\n",
      "Ram\n",
      "Shriram.[31\n",
      "]\n",
      "Between\n",
      "these\n",
      "initial\n",
      "investors\n",
      ",\n",
      "friends\n",
      ",\n",
      "and\n",
      "family\n",
      "Google\n",
      "raised\n",
      "around\n",
      "1\n",
      "million\n",
      "dollars\n",
      ",\n",
      "which\n",
      "is\n",
      "what\n",
      "allowed\n",
      "them\n",
      "to\n",
      "open\n",
      "up\n",
      "their\n",
      "original\n",
      "shop\n",
      "in\n",
      "Menlo\n",
      "Park\n",
      ",\n",
      "California\n"
     ]
    }
   ],
   "source": [
    "for token in doc:\n",
    "    print(token)"
   ]
  },
  {
   "cell_type": "markdown",
   "id": "09d2257c",
   "metadata": {},
   "source": [
    "### Only Noun"
   ]
  },
  {
   "cell_type": "code",
   "execution_count": 15,
   "id": "f5ade96b",
   "metadata": {},
   "outputs": [
    {
     "name": "stdout",
     "output_type": "stream",
     "text": [
      "contribution\n",
      "co\n",
      "-\n",
      "founder\n",
      "money\n",
      "money\n",
      "angel\n",
      "investors\n",
      "founder\n",
      "computer\n",
      "science\n",
      "professor\n",
      "entrepreneur\n",
      "investors\n",
      "friends\n",
      "family\n",
      "dollars\n",
      "shop\n"
     ]
    }
   ],
   "source": [
    "for token in doc:\n",
    "    if token.pos_ == \"NOUN\":\n",
    "        print(token)"
   ]
  },
  {
   "cell_type": "markdown",
   "id": "c584e945",
   "metadata": {},
   "source": [
    "### Adjectives"
   ]
  },
  {
   "cell_type": "code",
   "execution_count": 16,
   "id": "d7472765",
   "metadata": {},
   "outputs": [
    {
     "name": "stdout",
     "output_type": "stream",
     "text": [
      "other\n",
      "Shriram.[31\n",
      "initial\n",
      "original\n"
     ]
    }
   ],
   "source": [
    "for token in doc:\n",
    "    if token.pos_ == \"ADJ\":\n",
    "        print(token)"
   ]
  },
  {
   "cell_type": "markdown",
   "id": "070a285b",
   "metadata": {},
   "source": [
    "More about pos_ : \n",
    "\n",
    "https://machinelearningknowledge.ai/tutorial-on-spacy-part-of-speech-pos-tagging/"
   ]
  },
  {
   "cell_type": "markdown",
   "id": "ed3820dd",
   "metadata": {},
   "source": [
    "### Named Entity Recognition"
   ]
  },
  {
   "cell_type": "code",
   "execution_count": 17,
   "id": "5b9c1d16",
   "metadata": {},
   "outputs": [
    {
     "name": "stdout",
     "output_type": "stream",
     "text": [
      "August 1998 , Entity type:  DATE\n",
      "100,000 , Entity type:  MONEY\n",
      "Andy Bechtolsheim , Entity type:  PERSON\n",
      "Sun Microsystems , Entity type:  ORG\n",
      "Google , Entity type:  ORG\n",
      "three , Entity type:  CARDINAL\n",
      "1998 , Entity type:  DATE\n",
      "Amazon.com , Entity type:  ORG\n",
      "Jeff Bezos , Entity type:  PERSON\n",
      "Stanford University , Entity type:  ORG\n",
      "David Cheriton , Entity type:  PERSON\n",
      "Ram Shriram.[31 , Entity type:  PERSON\n",
      "Google , Entity type:  ORG\n",
      "around 1 million dollars , Entity type:  MONEY\n",
      "Menlo Park , Entity type:  GPE\n",
      "California , Entity type:  GPE\n"
     ]
    }
   ],
   "source": [
    "for entity in doc.ents:\n",
    "    print(entity.text, \", Entity type: \", entity.label_)"
   ]
  },
  {
   "cell_type": "markdown",
   "id": "2d54c5a6",
   "metadata": {},
   "source": [
    "# Resume Parsing"
   ]
  },
  {
   "cell_type": "code",
   "execution_count": 18,
   "id": "9d98e3c2",
   "metadata": {},
   "outputs": [],
   "source": [
    "import spacy\n",
    "import pdfminer\n",
    "import re\n",
    "import os\n",
    "import pandas as pd\n",
    "\n",
    "# this pdf2txt.py is available for download from pdfminer's github repo\n",
    "import pdf2txt "
   ]
  },
  {
   "cell_type": "markdown",
   "id": "9ab90c38",
   "metadata": {},
   "source": [
    "- s.path.basename() method returns the tail part after splitting the specified path into (head, tail) pair.\n",
    "- os.path.splitext() method in Python is used to split the path name into a pair root and ext. Here, ext stands for extension and has the extension portion of the specified path while root is everything except ext part.\n",
    "- The os.path.splitext(f)[0] would remove the .pdf part of our filename.\n",
    "- The os.path.basename() would get rid of the folder path part in front of the filename."
   ]
  },
  {
   "cell_type": "code",
   "execution_count": 19,
   "id": "94de42ca",
   "metadata": {},
   "outputs": [
    {
     "data": {
      "text/plain": [
       "'af/abc'"
      ]
     },
     "execution_count": 19,
     "metadata": {},
     "output_type": "execute_result"
    }
   ],
   "source": [
    "os.path.splitext(\"af/abc.pdf\")[0]"
   ]
  },
  {
   "cell_type": "code",
   "execution_count": 20,
   "id": "c6586157",
   "metadata": {},
   "outputs": [
    {
     "data": {
      "text/plain": [
       "'abc.txt'"
      ]
     },
     "execution_count": 20,
     "metadata": {},
     "output_type": "execute_result"
    }
   ],
   "source": [
    "os.path.basename(os.path.splitext(\"af/abc.pdf\")[0]) + '.txt'"
   ]
  },
  {
   "cell_type": "code",
   "execution_count": 21,
   "id": "5f2c27e3",
   "metadata": {},
   "outputs": [],
   "source": [
    "def convert_pdf(f):\n",
    "\n",
    "    output_filename = os.path.basename(os.path.splitext(f)[0]) + '.txt'\n",
    "    output_filepath = os.path.join(\"output/txt/\", output_filename)\n",
    "    \n",
    "    # pdf to txt and save to the given location\n",
    "    pdf2txt.main(args=[f, \"--outfile\", output_filepath])\n",
    "    \n",
    "    print(output_filepath + \" saved successfully\")\n",
    "    return open(output_filepath).read()"
   ]
  },
  {
   "cell_type": "code",
   "execution_count": 22,
   "id": "08867f61",
   "metadata": {},
   "outputs": [],
   "source": [
    "nlp = spacy.load(\"en_core_web_sm\")"
   ]
  },
  {
   "cell_type": "code",
   "execution_count": 23,
   "id": "e21d3b6e",
   "metadata": {},
   "outputs": [],
   "source": [
    "result_dict = {\"name\": [], \"phone\": [], \"email\": [], \"skills\": []}\n",
    "names = []\n",
    "phones = []\n",
    "emails = []\n",
    "skills = []"
   ]
  },
  {
   "cell_type": "code",
   "execution_count": 24,
   "id": "8440e223",
   "metadata": {},
   "outputs": [],
   "source": [
    "# phone_num credit https://stackoverflow.com/a/3868861"
   ]
  },
  {
   "cell_type": "code",
   "execution_count": 25,
   "id": "63f0482a",
   "metadata": {},
   "outputs": [],
   "source": [
    "def parse_content(text):\n",
    "    skillset = re.compile(\"python|java|sql|hadoop|tableau\")\n",
    "    phone_num = re.compile(\n",
    "        \"(\\d{3}[-\\.\\s]??\\d{3}[-\\.\\s]??\\d{4}|\\(\\d{3}\\)\\s*\\d{3}[-\\.\\s]??\\d{4}|\\d{3}[-\\.\\s]??\\d{4})\"\n",
    "    )\n",
    "    doc = nlp(text)\n",
    "    name = [entity.text for entity in doc.ents if entity.label_ == \"PERSON\"][0]\n",
    "    print(name)\n",
    "    email = [word for word in doc if word.like_email == True][0]\n",
    "    print(email)\n",
    "    phone = str(re.findall(phone_num, text.lower()))\n",
    "    skills_list = re.findall(skillset, text.lower())\n",
    "    unique_skills_list = str(set(skills_list))\n",
    "    names.append(name)\n",
    "    emails.append(email)\n",
    "    phones.append(phone)\n",
    "    skills.append(unique_skills_list)\n",
    "    print(\"Extraction completed successfully!!!\")\n",
    "\n"
   ]
  },
  {
   "cell_type": "code",
   "execution_count": 26,
   "id": "7453f4fe",
   "metadata": {},
   "outputs": [
    {
     "name": "stdout",
     "output_type": "stream",
     "text": [
      "Reading...Alisson ParkerCV.pdf\n",
      "output/txt/Alisson ParkerCV.txt saved successfully\n",
      "Alisson Parker-Wright                                                                                                 \n",
      "alli1414parks@mail.com\n",
      "Extraction completed successfully!!!\n",
      "\n",
      "\n",
      "Reading...AshleyMilesCV.pdf\n",
      "output/txt/AshleyMilesCV.txt saved successfully\n",
      "Ashley Miles\n",
      "ashleymiles@memail.com\n",
      "Extraction completed successfully!!!\n",
      "\n",
      "\n",
      "Reading...John DominicCV.pdf\n",
      "output/txt/John DominicCV.txt saved successfully\n",
      "John Dominic\n",
      "johndominic@mail.com\n",
      "Extraction completed successfully!!!\n",
      "\n",
      "\n"
     ]
    }
   ],
   "source": [
    "for file in os.listdir('resumes/'):\n",
    "    if file.endswith('.pdf'):\n",
    "        print('Reading...' + file)\n",
    "        txt = convert_pdf(os.path.join('resumes/', file))\n",
    "        parse_content(txt)\n",
    "        print(\"\\n\")"
   ]
  },
  {
   "cell_type": "code",
   "execution_count": 27,
   "id": "705ed33c",
   "metadata": {},
   "outputs": [
    {
     "data": {
      "text/html": [
       "<div>\n",
       "<style scoped>\n",
       "    .dataframe tbody tr th:only-of-type {\n",
       "        vertical-align: middle;\n",
       "    }\n",
       "\n",
       "    .dataframe tbody tr th {\n",
       "        vertical-align: top;\n",
       "    }\n",
       "\n",
       "    .dataframe thead th {\n",
       "        text-align: right;\n",
       "    }\n",
       "</style>\n",
       "<table border=\"1\" class=\"dataframe\">\n",
       "  <thead>\n",
       "    <tr style=\"text-align: right;\">\n",
       "      <th></th>\n",
       "      <th>name</th>\n",
       "      <th>phone</th>\n",
       "      <th>email</th>\n",
       "      <th>skills</th>\n",
       "    </tr>\n",
       "  </thead>\n",
       "  <tbody>\n",
       "    <tr>\n",
       "      <th>0</th>\n",
       "      <td>Alisson Parker-Wright                         ...</td>\n",
       "      <td>['8569878511']</td>\n",
       "      <td>alli1414parks@mail.com</td>\n",
       "      <td>{'tableau', 'java', 'python'}</td>\n",
       "    </tr>\n",
       "    <tr>\n",
       "      <th>1</th>\n",
       "      <td>Ashley Miles</td>\n",
       "      <td>['6592251422']</td>\n",
       "      <td>ashleymiles@memail.com</td>\n",
       "      <td>{'sql', 'tableau'}</td>\n",
       "    </tr>\n",
       "    <tr>\n",
       "      <th>2</th>\n",
       "      <td>John Dominic</td>\n",
       "      <td>['7877756411']</td>\n",
       "      <td>johndominic@mail.com</td>\n",
       "      <td>{'hadoop', 'java', 'python'}</td>\n",
       "    </tr>\n",
       "  </tbody>\n",
       "</table>\n",
       "</div>"
      ],
      "text/plain": [
       "                                                name           phone  \\\n",
       "0  Alisson Parker-Wright                         ...  ['8569878511']   \n",
       "1                                       Ashley Miles  ['6592251422']   \n",
       "2                                       John Dominic  ['7877756411']   \n",
       "\n",
       "                    email                         skills  \n",
       "0  alli1414parks@mail.com  {'tableau', 'java', 'python'}  \n",
       "1  ashleymiles@memail.com             {'sql', 'tableau'}  \n",
       "2    johndominic@mail.com   {'hadoop', 'java', 'python'}  "
      ]
     },
     "execution_count": 27,
     "metadata": {},
     "output_type": "execute_result"
    }
   ],
   "source": [
    "result_dict['name'] = names\n",
    "result_dict['phone'] = phones\n",
    "result_dict['email'] = emails\n",
    "result_dict['skills'] = skills\n",
    "\n",
    "result_df = pd.DataFrame(result_dict)\n",
    "result_df"
   ]
  },
  {
   "cell_type": "code",
   "execution_count": 28,
   "id": "a2f249b4",
   "metadata": {},
   "outputs": [],
   "source": [
    "result_df.to_csv('output/csv/parsed_resumes.csv')"
   ]
  }
 ],
 "metadata": {
  "kernelspec": {
   "display_name": "Python 3",
   "language": "python",
   "name": "python3"
  },
  "language_info": {
   "codemirror_mode": {
    "name": "ipython",
    "version": 3
   },
   "file_extension": ".py",
   "mimetype": "text/x-python",
   "name": "python",
   "nbconvert_exporter": "python",
   "pygments_lexer": "ipython3",
   "version": "3.8.9"
  }
 },
 "nbformat": 4,
 "nbformat_minor": 5
}
