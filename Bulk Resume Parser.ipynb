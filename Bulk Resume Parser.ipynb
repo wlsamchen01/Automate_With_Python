{
 "cells": [
  {
   "cell_type": "markdown",
   "id": "766c1411",
   "metadata": {},
   "source": [
    "import pdfminer - pdf to text\n",
    "\n",
    "- pip3 install pdfminer.six\n",
    "\n",
    "import spacy - nlp\n",
    "\n",
    "- pip3 install spacy\n",
    "- python -m spacy download en_core_web_sm\n",
    "\n",
    "\n",
    "\n",
    "import re - regex\n",
    "\n",
    "import os - os file path\n",
    "\n",
    "import pandas as pd - output csv"
   ]
  },
  {
   "cell_type": "markdown",
   "id": "8f6a5813",
   "metadata": {},
   "source": [
    "# Regex\n",
    "\n",
    "Metacharacters:\n",
    "\n",
    "^$.|{ }[ ]*+?\\\n",
    "\n",
    "- | separates alternatives, aka or\n",
    "\n",
    "- Parenteses () are used to define the scope and precedence of the operators\n",
    "\n",
    "- ? indicates zero or one occurences of the preceding element\n",
    "\n",
    "- * indicates zero or more occurences of the preceding element. e.g. ab*c matches \"ac\", \"abc\", \"abbc\", \"abbbc\", and so on.\n",
    "\n",
    "###  RE Methods\n",
    "\n",
    "re.match()\n",
    "- returns a match object instance if zero or more characters the beginning of the string match the regular expression.\n",
    "\n",
    "re.search()\n",
    "- returns a match object instance if part of the string contains zero or more characters match the regular expression. the match object contains the location of the first \"match\".\n",
    "\n",
    "re.findall()\n",
    "\n",
    "re.split()\n",
    "\n",
    "re.sub()\n",
    "\n",
    "re.compile()\n",
    "\n"
   ]
  },
  {
   "cell_type": "code",
   "execution_count": 1,
   "id": "43349774",
   "metadata": {},
   "outputs": [
    {
     "data": {
      "text/plain": [
       "<re.Match object; span=(0, 4), match='Best'>"
      ]
     },
     "execution_count": 1,
     "metadata": {},
     "output_type": "execute_result"
    }
   ],
   "source": [
    "import re\n",
    "\n",
    "text = \"Best Python course\"\n",
    "\n",
    "re.match(\"Best\", text)"
   ]
  },
  {
   "cell_type": "code",
   "execution_count": 2,
   "id": "aef495c9",
   "metadata": {},
   "outputs": [
    {
     "data": {
      "text/plain": [
       "<re.Match object; span=(0, 4), match='Best'>"
      ]
     },
     "execution_count": 2,
     "metadata": {},
     "output_type": "execute_result"
    }
   ],
   "source": [
    "re.match(\"Best|Good\", text)"
   ]
  },
  {
   "cell_type": "code",
   "execution_count": 3,
   "id": "51e21fa2",
   "metadata": {},
   "outputs": [
    {
     "data": {
      "text/plain": [
       "<re.Match object; span=(0, 4), match='Good'>"
      ]
     },
     "execution_count": 3,
     "metadata": {},
     "output_type": "execute_result"
    }
   ],
   "source": [
    "text2 = \"Good Python Course\"\n",
    "re.match(\"Best|Good\", text2)"
   ]
  },
  {
   "cell_type": "code",
   "execution_count": 4,
   "id": "0d3d1529",
   "metadata": {},
   "outputs": [
    {
     "data": {
      "text/plain": [
       "<re.Match object; span=(0, 4), match='Good'>"
      ]
     },
     "execution_count": 4,
     "metadata": {},
     "output_type": "execute_result"
    }
   ],
   "source": [
    "text2 = \"Good Best Python Course\"\n",
    "re.search(\"Best|Good\", text2)"
   ]
  },
  {
   "cell_type": "code",
   "execution_count": 7,
   "id": "f8e7f9f4",
   "metadata": {},
   "outputs": [],
   "source": [
    "# returns nothing\n",
    "re.match(\"Course\",text2)"
   ]
  },
  {
   "cell_type": "code",
   "execution_count": 5,
   "id": "abe7247d",
   "metadata": {},
   "outputs": [
    {
     "data": {
      "text/plain": [
       "['Good', 'Best']"
      ]
     },
     "execution_count": 5,
     "metadata": {},
     "output_type": "execute_result"
    }
   ],
   "source": [
    "re.findall(\"Best|Good\", text2)"
   ]
  },
  {
   "cell_type": "code",
   "execution_count": 6,
   "id": "ca60628a",
   "metadata": {},
   "outputs": [
    {
     "data": {
      "text/plain": [
       "[]"
      ]
     },
     "execution_count": 6,
     "metadata": {},
     "output_type": "execute_result"
    }
   ],
   "source": [
    "re.findall('AAAAAAAAA', text2)"
   ]
  },
  {
   "cell_type": "markdown",
   "id": "79d534a0",
   "metadata": {},
   "source": [
    "# Basic Overview of Spacy Functions\n",
    "\n",
    "\n"
   ]
  },
  {
   "cell_type": "code",
   "execution_count": null,
   "id": "dd052e72",
   "metadata": {},
   "outputs": [],
   "source": []
  }
 ],
 "metadata": {
  "kernelspec": {
   "display_name": "Python 3",
   "language": "python",
   "name": "python3"
  },
  "language_info": {
   "codemirror_mode": {
    "name": "ipython",
    "version": 3
   },
   "file_extension": ".py",
   "mimetype": "text/x-python",
   "name": "python",
   "nbconvert_exporter": "python",
   "pygments_lexer": "ipython3",
   "version": "3.8.9"
  }
 },
 "nbformat": 4,
 "nbformat_minor": 5
}
