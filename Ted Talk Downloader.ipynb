{
 "cells": [
  {
   "cell_type": "code",
   "execution_count": 1,
   "id": "7b0b33ab",
   "metadata": {},
   "outputs": [],
   "source": [
    "import requests # for getting content of the TED Talk page\n",
    "from bs4 import BeautifulSoup # web scraping\n",
    "import re # regular expression pattern matching\n",
    "import sys # for argument parsing"
   ]
  },
  {
   "cell_type": "code",
   "execution_count": 2,
   "id": "4d7cde8d",
   "metadata": {},
   "outputs": [],
   "source": [
    "# Exception Handling\n",
    "# This part is added so that we can pass in the url when we run the script\n",
    "# in terminal\n",
    "if len(sys.argv) > 1:\n",
    "    url = sys.argv[1]\n",
    "else:\n",
    "    sys.exit(\"Error: Please enter the TED Talk URL\")"
   ]
  },
  {
   "cell_type": "code",
   "execution_count": 3,
   "id": "6b79cc51",
   "metadata": {},
   "outputs": [],
   "source": [
    "url = \"https://www.ted.com/talks/jia_jiang_what_i_learned_from_100_days_of_rejection\""
   ]
  },
  {
   "cell_type": "code",
   "execution_count": 4,
   "id": "d89d0abe",
   "metadata": {},
   "outputs": [
    {
     "name": "stdout",
     "output_type": "stream",
     "text": [
      "Download about to start\n"
     ]
    }
   ],
   "source": [
    "r = requests.get(url)\n",
    "\n",
    "print(\"Download about to start\")\n",
    "\n",
    "# use BeautifulSoup to create a \"soup\" of the content we got from requests\n",
    "soup = BeautifulSoup(r.content, features='lxml')\n",
    "\n",
    "# We want to find out the location of the mp4 \n",
    "# when we inspect the page, the mp4 is located inside a script tag labelled\n",
    "# \"talkPage.init\"\n",
    "for val in soup.findAll('script'):\n",
    "    if(re.search('talkPage.init',str(val))) is not None:\n",
    "        result = str(val)"
   ]
  },
  {
   "cell_type": "code",
   "execution_count": 5,
   "id": "663ccb52",
   "metadata": {},
   "outputs": [
    {
     "name": "stdout",
     "output_type": "stream",
     "text": [
      "<script data-spec=\"q\">q(\"talkPage.init\",{\"el\":\"[data-talk-page]\",\"__INITIAL_DATA__\":{\"requested_language_english_name\":\"English\",\"current_talk\":\"2638\",\"description\":\"Jia Jiang adventures boldly into a territory so many of us fear: rejection. By seeking out rejection for 100 days -- from asking a stranger to borrow $100 to requesting a \\\"burger refill\\\" at a restaurant -- Jiang desensitized himself to the pain and shame that rejection often brings and, in the process, discovered that simply asking for what you want can open up possibilities where you expect to find dead ends.\",\"event\":\"TEDxMtHood\",\"language\":\"en\",\"language_swap\":false,\"name\":\"Jia Jiang: What I learned from 100 days of rejection\",\"slug\":\"jia_jiang_what_i_learned_from_100_days_of_rejection\",\"series_slug\":null,\"speakers\":[{\"id\":\"3169\",\"slug\":\"jia_jiang\",\"is_published\":true,\"firstname\":\"Jia\",\"lastname\":\"Jiang\",\"middleinitial\":\"\",\"title\":\"\",\"description\":\"Author, blogger, entrepreneur\",\"photo_url\":\"https://pe.tedcdn.com/images/ted/2e15ee561aed9b4483306c01737614cd92b3b693_254x191.jpg\",\"whatotherssay\":\"\",\"whotheyare\":\"Jia Jiang's journey through rejection revealed a world hidden in plain sight, where people are much kinder than we imagine.\",\"whylisten\":\"<p>Jia Jiang is the owner of&nbsp;<a href=\\\"http://rejectiontherapy.com/\\\" target=\\\"_blank\\\">Rejection Therapy</a>, a website that provides inspiration, knowledge and products for people to overcome their fear of rejection. He is also the CEO of&nbsp;<a href=\\\"http://www.wujulearning.com/\\\" target=\\\"_blank\\\">Wuju Learning</a>, a company that teaches people and trains organizations to become fearless through rejection training. In 2015, he authored a bestselling book,&nbsp;<a href=\\\"http://geni.us/mFqe\\\" target=\\\"_blank\\\"><em>Rejection Proof: How I Beat Fear and Became Invincible Through 100 Days of Rejection</em></a>.</p><p>Several years after Jiang began his career in the corporate world, he took a life-altering risk and stepped into the unknown world of entrepreneurship. His result was everyone&#39;s biggest fear: rejection. This was the catalyst that set Jiang on the path to his true calling.</p><p>To conquer the fear of rejection, Jiang embarked on a personal quest and started a blog,&nbsp;<a href=\\\"http://rejectiontherapy.com/100-days-of-rejection-therapy/\\\" target=\\\"_blank\\\">100 Days of Rejection Therapy</a>. His journey revealed a world that was hidden in plain sight --&nbsp;a world where people are much kinder than we imagine. He discovered that rejection can be much less painful than we believe&nbsp;and that the fear of rejection is much more destructive than we know.</p><p>Jiang grew up in Beijing, China and migrated to the United States at age 16. He holds a Bachelor of Computer Science from Brigham Young University and a Master of Business Administration from Duke University.</p>\"}],\"url\":\"https://www.ted.com/talks/jia_jiang_what_i_learned_from_100_days_of_rejection\",\"viewed_count\":8187954,\"talks\":[{\"recommendations\":{\"status\":\"approved\",\"headline\":\"Jia Jiang recommends\",\"blurb\":\"Check out these reading resources on psychology and rejection, curated by Jia Jiang.\",\"start_at\":null,\"end_at\":null,\"published\":true,\"eyebrow\":null,\"type\":\"recommendation\",\"rec_lists\":[{\"title\":\"\",\"description\":\"\",\"rec_items\":[{\"label\":\"READ_Book\",\"headline\":\"*Influence: The Psychology of Persuasion*\",\"blurb\":\"Demonstrated that the ways one can make a request or sell an idea can have major impacts on the outcomes. This book inspired some of the experiments I’ve conducted throughout 100 Days of Rejection. \",\"note\":\"Robert Cialdini\\r\\nHarper Business, 2006\",\"link_url\":\"https://www.amazon.com/Influence-Psychology-Persuasion-Robert-Cialdini/dp/006124189X/ref=as_li_tf_tl?ie=UTF8&camp=1789&creative=9325&creativeASIN=0520271440&linkCode=as2&tag=teco06-20\",\"position\":null,\"is_pdf\":false,\"eyebrow\":null},{\"label\":\"READ_Book\",\"headline\":\"*Mindset: The New Psychology of Success*\",\"blurb\":\"Taught me that skills, charisma and mental toughness could be acquired through learning and exercise. Having this mindset was fundamental in my decision to start the 100 Days of Rejection project.\",\"note\":\"Carol Dweck\\r\\nBallantine Books, 2007\",\"link_url\":\"https://www.amazon.com/Mindset-Psychology-Carol-S-Dweck/dp/0345472322/ref=as_li_tf_tl?ie=UTF8&camp=1789&creative=9325&creativeASIN=0520271440&linkCode=as2&tag=teco06-20\",\"position\":null,\"is_pdf\":false,\"eyebrow\":null},{\"label\":\"READ_Book\",\"headline\":\"*Predictably Irrational: The Hidden Forces That Shape Our Decisions*\",\"blurb\":\"As my professor and friend, Dan Ariely taught me the importance of learning and experiments without preconceived notions. \",\"note\":\"Dan Ariely\",\"link_url\":\"https://www.amazon.com/Predictably-Irrational-Revised-Expanded-Decisions/dp/0061353248/ref=as_li_tf_tl?ie=UTF8&camp=1789&creative=9325&creativeASIN=0520271440&linkCode=as2&tag=teco06-20\",\"position\":null,\"is_pdf\":false,\"eyebrow\":null},{\"label\":\"READ_Book\",\"headline\":\"*The Lean Startup*\",\"blurb\":\"This book talks about using experimentation and user feedback to build better products. I’ve borrowed some of the methods taught here to conduct personal experiments in rejection and negotiation. \",\"note\":\"Eric Ries\\r\\nViking, 2011\",\"link_url\":\"https://www.amazon.com/Constant-Innovation-Radically-Successful-Businesses/dp/0670921602/ref=as_li_tf_tl?ie=UTF8&camp=1789&creative=9325&creativeASIN=0520271440&linkCode=as2&tag=teco06-20\",\"position\":null,\"is_pdf\":false,\"eyebrow\":null},{\"label\":\"READ_Book\",\"headline\":\"*Make to Stick: Why Some Ideas Survive and Others Die*\",\"blurb\":\"Taught me the importance of using surprise, humor and emotional appeals in storytelling.\",\"note\":\"Chip Heath and Dan Heath\",\"link_url\":\"https://www.amazon.com/Made-Stick-Ideas-Others-Unstuck/dp/009950569X/ref=as_li_tf_tl?ie=UTF8&camp=1789&creative=9325&creativeASIN=0520271440&linkCode=as2&tag=teco06-20\",\"position\":null,\"is_pdf\":false,\"eyebrow\":null},{\"label\":\"READ_Book\",\"headline\":\"*Founding Brothers: The Revolutionary Generation*\",\"blurb\":\"One of the first books I’ve read cover-to-cover after moving to America. Taught me how storytelling could make boring subjects such as history and politics addictive and memorable.\",\"note\":\"Joseph J. Ellis\\r\\nVintage, 2002\",\"link_url\":\"https://www.amazon.com/Founding-Brothers-Revolutionary-Joseph-Ellis/dp/0375705244/ref=as_li_tf_tl?ie=UTF8&camp=1789&creative=9325&creativeASIN=0520271440&linkCode=as2&tag=teco06-20\",\"position\":null,\"is_pdf\":false,\"eyebrow\":null}]}]},\"more_resources\":[{\"status\":\"approved\",\"headline\":\"Rejection Proof: How I Beat Fear and Became Invincible Through 100 Days of Rejection\",\"blurb\":null,\"link_url\":\"https://www.amazon.com/Rejection-Proof-Became-Invincible-Through/dp/080414138X/ref=as_li_tf_tl?ie=UTF8&camp=1789&creative=9325&creativeASIN=0520271440&linkCode=as2&tag=teco06-20\",\"image_url\":\"https://pe.tedcdn.com/images/ted/020678f228701ec0f1d9f88ec1a64ec2e222e933_793x1200.jpg\",\"author\":\"Jia Jiang\",\"year\":\"2015\",\"publisher\":\"Harmony\",\"start_at\":null,\"end_at\":null,\"published\":true,\"eyebrow\":null,\"type\":\"book\"}],\"corrections\":[],\"has_citations\":true,\"take_action\":[{\"status\":\"approved\",\"blurb\":\"**Check out RejectionTherapy.com** to learn more about how to use rejection as a tool to achieve your goals. \",\"link_url\":\"http://rejectiontherapy.com/\",\"visible_url\":\"rejectiontherapy.com\",\"start_at\":null,\"end_at\":null,\"published\":true,\"eyebrow\":null,\"type\":\"take_action\",\"verb\":\"participate\"}],\"explore_cta_experiment\":{},\"curator_approved\":true,\"description\":\"Jia Jiang adventures boldly into a territory so many of us fear: rejection. By seeking out rejection for 100 days -- from asking a stranger to borrow $100 to requesting a \\\"burger refill\\\" at a restaurant -- Jiang desensitized himself to the pain and shame that rejection often brings and, in the process, discovered that simply asking for what you want can open up possibilities where you expect to find dead ends.\",\"downloads\":{\"id\":2638,\"languages\":[{\"languageName\":\"English\",\"endonym\":\"English\",\"languageCode\":\"en\",\"ianaCode\":\"en\",\"isRtl\":false},{\"languageName\":\"Hebrew\",\"endonym\":\"עברית\",\"languageCode\":\"he\",\"ianaCode\":\"he\",\"isRtl\":true},{\"languageName\":\"Portuguese, Brazilian\",\"endonym\":\"Português brasileiro\",\"languageCode\":\"pt-br\",\"ianaCode\":\"pt-BR\",\"isRtl\":false},{\"languageName\":\"Japanese\",\"endonym\":\"日本語\",\"languageCode\":\"ja\",\"ianaCode\":\"ja\",\"isRtl\":false},{\"languageName\":\"Persian\",\"endonym\":\"فارسى\",\"languageCode\":\"fa\",\"ianaCode\":\"fa\",\"isRtl\":true},{\"languageName\":\"Danish\",\"endonym\":\"Dansk\",\"languageCode\":\"da\",\"ianaCode\":\"da\",\"isRtl\":false},{\"languageName\":\"Spanish\",\"endonym\":\"Español\",\"languageCode\":\"es\",\"ianaCode\":\"es\",\"isRtl\":false},{\"languageName\":\"Russian\",\"endonym\":\"Русский\",\"languageCode\":\"ru\",\"ianaCode\":\"ru\",\"isRtl\":false},{\"languageName\":\"Chinese, Simplified\",\"endonym\":\"中文 (简体)\",\"languageCode\":\"zh-cn\",\"ianaCode\":\"zh-Hans\",\"isRtl\":false},{\"languageName\":\"Serbian\",\"endonym\":\"Српски, Srpski\",\"languageCode\":\"sr\",\"ianaCode\":\"sr\",\"isRtl\":false},{\"languageName\":\"Bulgarian\",\"endonym\":\"български\",\"languageCode\":\"bg\",\"ianaCode\":\"bg\",\"isRtl\":false},{\"languageName\":\"Korean\",\"endonym\":\"한국어\",\"languageCode\":\"ko\",\"ianaCode\":\"ko\",\"isRtl\":false},{\"languageName\":\"Dutch\",\"endonym\":\"Nederlands\",\"languageCode\":\"nl\",\"ianaCode\":\"nl\",\"isRtl\":false},{\"languageName\":\"Arabic\",\"endonym\":\"العربية\",\"languageCode\":\"ar\",\"ianaCode\":\"ar\",\"isRtl\":true},{\"languageName\":\"Ukrainian\",\"endonym\":\"Українська\",\"languageCode\":\"uk\",\"ianaCode\":\"uk\",\"isRtl\":false},{\"languageName\":\"Turkish\",\"endonym\":\"Türkçe\",\"languageCode\":\"tr\",\"ianaCode\":\"tr\",\"isRtl\":false},{\"languageName\":\"Croatian\",\"endonym\":\"Hrvatski\",\"languageCode\":\"hr\",\"ianaCode\":\"hr\",\"isRtl\":false},{\"languageName\":\"Greek\",\"endonym\":\"Ελληνικά\",\"languageCode\":\"el\",\"ianaCode\":\"el\",\"isRtl\":false},{\"languageName\":\"Portuguese\",\"endonym\":\"Português de Portugal\",\"languageCode\":\"pt\",\"ianaCode\":\"pt\",\"isRtl\":false},{\"languageName\":\"German\",\"endonym\":\"Deutsch\",\"languageCode\":\"de\",\"ianaCode\":\"de\",\"isRtl\":false},{\"languageName\":\"Czech\",\"endonym\":\"Čeština\",\"languageCode\":\"cs\",\"ianaCode\":\"cs\",\"isRtl\":false},{\"languageName\":\"Chinese, Traditional\",\"endonym\":\"中文 (繁體)\",\"languageCode\":\"zh-tw\",\"ianaCode\":\"zh-Hant\",\"isRtl\":false},{\"languageName\":\"Vietnamese\",\"endonym\":\"Tiếng Việt\",\"languageCode\":\"vi\",\"ianaCode\":\"vi\",\"isRtl\":false},{\"languageName\":\"French\",\"endonym\":\"Français\",\"languageCode\":\"fr\",\"ianaCode\":\"fr\",\"isRtl\":false},{\"languageName\":\"Kazakh\",\"endonym\":\"Қазақ тілі\",\"languageCode\":\"kk\",\"ianaCode\":\"kk\",\"isRtl\":false},{\"languageName\":\"Thai\",\"endonym\":\"ภาษาไทย\",\"languageCode\":\"th\",\"ianaCode\":\"th\",\"isRtl\":false},{\"languageName\":\"Marathi\",\"endonym\":\"मराठी\",\"languageCode\":\"mr\",\"ianaCode\":\"mr\",\"isRtl\":false},{\"languageName\":\"Romanian\",\"endonym\":\"Română\",\"languageCode\":\"ro\",\"ianaCode\":\"ro\",\"isRtl\":false},{\"languageName\":\"Polish\",\"endonym\":\"Polski\",\"languageCode\":\"pl\",\"ianaCode\":\"pl\",\"isRtl\":false},{\"languageName\":\"Italian\",\"endonym\":\"Italiano\",\"languageCode\":\"it\",\"ianaCode\":\"it\",\"isRtl\":false},{\"languageName\":\"Mongolian\",\"endonym\":\"Монгол\",\"languageCode\":\"mn\",\"ianaCode\":\"mn\",\"isRtl\":false},{\"languageName\":\"Malay\",\"endonym\":\"Bahasa melayu\",\"languageCode\":\"ms\",\"ianaCode\":\"ms\",\"isRtl\":false},{\"languageName\":\"Kurdish\",\"endonym\":\"کوردی\",\"languageCode\":\"ku\",\"ianaCode\":\"ku\",\"isRtl\":true},{\"languageName\":\"Galician\",\"endonym\":\"Galego\",\"languageCode\":\"gl\",\"ianaCode\":\"gl\",\"isRtl\":false},{\"languageName\":\"Gujarati\",\"endonym\":\"ગુજરાતી\",\"languageCode\":\"gu\",\"ianaCode\":\"gu\",\"isRtl\":false},{\"languageName\":\"Latvian\",\"endonym\":\"Latviešu\",\"languageCode\":\"lv\",\"ianaCode\":\"lv\",\"isRtl\":false},{\"languageName\":\"Uzbek\",\"endonym\":\"O'zbek\",\"languageCode\":\"uz\",\"ianaCode\":\"uz\",\"isRtl\":false},{\"languageName\":\"Kurdish (Central)\",\"endonym\":\"کوردی سۆرانی\",\"languageCode\":\"ckb\",\"ianaCode\":\"ku-ckb\",\"isRtl\":true}],\"nativeDownloads\":{\"low\":\"https://download.ted.com/products/88756.mp4?apikey=acme-roadrunner\",\"medium\":\"https://download.ted.com/products/88758.mp4?apikey=acme-roadrunner\",\"high\":\"https://download.ted.com/products/88759.mp4?apikey=acme-roadrunner\"},\"subtitledDownloads\":{\"en\":{\"name\":\"English\",\"low\":\"https://download.ted.com/talks/JiaJiang_2015X-low-en.mp4?apikey=acme-roadrunner\",\"high\":\"https://download.ted.com/talks/JiaJiang_2015X-480p-en.mp4?apikey=acme-roadrunner\"},\"he\":{\"name\":\"Hebrew\",\"low\":\"https://download.ted.com/talks/JiaJiang_2015X-low-he.mp4?apikey=acme-roadrunner\",\"high\":\"https://download.ted.com/talks/JiaJiang_2015X-480p-he.mp4?apikey=acme-roadrunner\"},\"pt-br\":{\"name\":\"Portuguese, Brazilian\",\"low\":\"https://download.ted.com/talks/JiaJiang_2015X-low-pt-br.mp4?apikey=acme-roadrunner\",\"high\":\"https://download.ted.com/talks/JiaJiang_2015X-480p-pt-br.mp4?apikey=acme-roadrunner\"},\"ja\":{\"name\":\"Japanese\",\"low\":\"https://download.ted.com/talks/JiaJiang_2015X-low-ja.mp4?apikey=acme-roadrunner\",\"high\":\"https://download.ted.com/talks/JiaJiang_2015X-480p-ja.mp4?apikey=acme-roadrunner\"},\"fa\":{\"name\":\"Persian\",\"low\":\"https://download.ted.com/talks/JiaJiang_2015X-low-fa.mp4?apikey=acme-roadrunner\",\"high\":\"https://download.ted.com/talks/JiaJiang_2015X-480p-fa.mp4?apikey=acme-roadrunner\"},\"da\":{\"name\":\"Danish\",\"low\":\"https://download.ted.com/talks/JiaJiang_2015X-low-da.mp4?apikey=acme-roadrunner\",\"high\":\"https://download.ted.com/talks/JiaJiang_2015X-480p-da.mp4?apikey=acme-roadrunner\"},\"es\":{\"name\":\"Spanish\",\"low\":\"https://download.ted.com/talks/JiaJiang_2015X-low-es.mp4?apikey=acme-roadrunner\",\"high\":\"https://download.ted.com/talks/JiaJiang_2015X-480p-es.mp4?apikey=acme-roadrunner\"},\"zh-cn\":{\"name\":\"Chinese, Simplified\",\"low\":\"https://download.ted.com/talks/JiaJiang_2015X-low-zh-cn.mp4?apikey=acme-roadrunner\",\"high\":\"https://download.ted.com/talks/JiaJiang_2015X-480p-zh-cn.mp4?apikey=acme-roadrunner\"},\"sr\":{\"name\":\"Serbian\",\"low\":\"https://download.ted.com/talks/JiaJiang_2015X-low-sr.mp4?apikey=acme-roadrunner\",\"high\":\"https://download.ted.com/talks/JiaJiang_2015X-480p-sr.mp4?apikey=acme-roadrunner\"},\"ko\":{\"name\":\"Korean\",\"low\":\"https://download.ted.com/talks/JiaJiang_2015X-low-ko.mp4?apikey=acme-roadrunner\",\"high\":\"https://download.ted.com/talks/JiaJiang_2015X-480p-ko.mp4?apikey=acme-roadrunner\"},\"bg\":{\"name\":\"Bulgarian\",\"low\":\"https://download.ted.com/talks/JiaJiang_2015X-low-bg.mp4?apikey=acme-roadrunner\",\"high\":\"https://download.ted.com/talks/JiaJiang_2015X-480p-bg.mp4?apikey=acme-roadrunner\"},\"nl\":{\"name\":\"Dutch\",\"low\":\"https://download.ted.com/talks/JiaJiang_2015X-low-nl.mp4?apikey=acme-roadrunner\",\"high\":\"https://download.ted.com/talks/JiaJiang_2015X-480p-nl.mp4?apikey=acme-roadrunner\"},\"ru\":{\"name\":\"Russian\",\"low\":\"https://download.ted.com/talks/JiaJiang_2015X-low-ru.mp4?apikey=acme-roadrunner\",\"high\":\"https://download.ted.com/talks/JiaJiang_2015X-480p-ru.mp4?apikey=acme-roadrunner\"},\"ar\":{\"name\":\"Arabic\",\"low\":\"https://download.ted.com/talks/JiaJiang_2015X-low-ar.mp4?apikey=acme-roadrunner\",\"high\":\"https://download.ted.com/talks/JiaJiang_2015X-480p-ar.mp4?apikey=acme-roadrunner\"},\"uk\":{\"name\":\"Ukrainian\",\"low\":\"https://download.ted.com/talks/JiaJiang_2015X-low-uk.mp4?apikey=acme-roadrunner\",\"high\":\"https://download.ted.com/talks/JiaJiang_2015X-480p-uk.mp4?apikey=acme-roadrunner\"},\"tr\":{\"name\":\"Turkish\",\"low\":\"https://download.ted.com/talks/JiaJiang_2015X-low-tr.mp4?apikey=acme-roadrunner\",\"high\":\"https://download.ted.com/talks/JiaJiang_2015X-480p-tr.mp4?apikey=acme-roadrunner\"},\"hr\":{\"name\":\"Croatian\",\"low\":\"https://download.ted.com/talks/JiaJiang_2015X-low-hr.mp4?apikey=acme-roadrunner\",\"high\":\"https://download.ted.com/talks/JiaJiang_2015X-480p-hr.mp4?apikey=acme-roadrunner\"},\"el\":{\"name\":\"Greek\",\"low\":\"https://download.ted.com/talks/JiaJiang_2015X-low-el.mp4?apikey=acme-roadrunner\",\"high\":\"https://download.ted.com/talks/JiaJiang_2015X-480p-el.mp4?apikey=acme-roadrunner\"},\"pt\":{\"name\":\"Portuguese\",\"low\":\"https://download.ted.com/talks/JiaJiang_2015X-low-pt.mp4?apikey=acme-roadrunner\",\"high\":\"https://download.ted.com/talks/JiaJiang_2015X-480p-pt.mp4?apikey=acme-roadrunner\"},\"de\":{\"name\":\"German\",\"low\":\"https://download.ted.com/talks/JiaJiang_2015X-low-de.mp4?apikey=acme-roadrunner\",\"high\":\"https://download.ted.com/talks/JiaJiang_2015X-480p-de.mp4?apikey=acme-roadrunner\"},\"vi\":{\"name\":\"Vietnamese\",\"low\":\"https://download.ted.com/talks/JiaJiang_2015X-low-vi.mp4?apikey=acme-roadrunner\",\"high\":\"https://download.ted.com/talks/JiaJiang_2015X-480p-vi.mp4?apikey=acme-roadrunner\"},\"zh-tw\":{\"name\":\"Chinese, Traditional\",\"low\":\"https://download.ted.com/talks/JiaJiang_2015X-low-zh-tw.mp4?apikey=acme-roadrunner\",\"high\":\"https://download.ted.com/talks/JiaJiang_2015X-480p-zh-tw.mp4?apikey=acme-roadrunner\"},\"fr\":{\"name\":\"French\",\"low\":\"https://download.ted.com/talks/JiaJiang_2015X-low-fr.mp4?apikey=acme-roadrunner\",\"high\":\"https://download.ted.com/talks/JiaJiang_2015X-480p-fr.mp4?apikey=acme-roadrunner\"},\"kk\":{\"name\":\"Kazakh\",\"low\":\"https://download.ted.com/talks/JiaJiang_2015X-low-kk.mp4?apikey=acme-roadrunner\",\"high\":\"https://download.ted.com/talks/JiaJiang_2015X-480p-kk.mp4?apikey=acme-roadrunner\"},\"th\":{\"name\":\"Thai\",\"low\":\"https://download.ted.com/talks/JiaJiang_2015X-low-th.mp4?apikey=acme-roadrunner\",\"high\":\"https://download.ted.com/talks/JiaJiang_2015X-480p-th.mp4?apikey=acme-roadrunner\"},\"mr\":{\"name\":\"Marathi\",\"low\":\"https://download.ted.com/talks/JiaJiang_2015X-low-mr.mp4?apikey=acme-roadrunner\",\"high\":\"https://download.ted.com/talks/JiaJiang_2015X-480p-mr.mp4?apikey=acme-roadrunner\"},\"ro\":{\"name\":\"Romanian\",\"low\":\"https://download.ted.com/talks/JiaJiang_2015X-low-ro.mp4?apikey=acme-roadrunner\",\"high\":\"https://download.ted.com/talks/JiaJiang_2015X-480p-ro.mp4?apikey=acme-roadrunner\"},\"pl\":{\"name\":\"Polish\",\"low\":\"https://download.ted.com/talks/JiaJiang_2015X-low-pl.mp4?apikey=acme-roadrunner\",\"high\":\"https://download.ted.com/talks/JiaJiang_2015X-480p-pl.mp4?apikey=acme-roadrunner\"},\"it\":{\"name\":\"Italian\",\"low\":\"https://download.ted.com/talks/JiaJiang_2015X-low-it.mp4?apikey=acme-roadrunner\",\"high\":\"https://download.ted.com/talks/JiaJiang_2015X-480p-it.mp4?apikey=acme-roadrunner\"},\"mn\":{\"name\":\"Mongolian\",\"low\":\"https://download.ted.com/talks/JiaJiang_2015X-low-mn.mp4?apikey=acme-roadrunner\",\"high\":\"https://download.ted.com/talks/JiaJiang_2015X-480p-mn.mp4?apikey=acme-roadrunner\"},\"cs\":{\"name\":\"Czech\",\"high\":\"https://download.ted.com/talks/JiaJiang_2015X-480p-cs.mp4?apikey=acme-roadrunner\",\"low\":\"https://download.ted.com/talks/JiaJiang_2015X-low-cs.mp4?apikey=acme-roadrunner\"},\"gl\":{\"name\":\"Galician\",\"low\":\"https://download.ted.com/talks/JiaJiang_2015X-low-gl.mp4?apikey=acme-roadrunner\",\"high\":\"https://download.ted.com/talks/JiaJiang_2015X-480p-gl.mp4?apikey=acme-roadrunner\"},\"ms\":{\"name\":\"Malay\",\"low\":\"https://download.ted.com/talks/JiaJiang_2015X-low-ms.mp4?apikey=acme-roadrunner\",\"high\":\"https://download.ted.com/talks/JiaJiang_2015X-480p-ms.mp4?apikey=acme-roadrunner\"},\"gu\":{\"name\":\"Gujarati\",\"low\":\"https://download.ted.com/talks/JiaJiang_2015X-low-gu.mp4?apikey=acme-roadrunner\",\"high\":\"https://download.ted.com/talks/JiaJiang_2015X-480p-gu.mp4?apikey=acme-roadrunner\"},\"lv\":{\"name\":\"Latvian\",\"low\":\"https://download.ted.com/talks/JiaJiang_2015X-low-lv.mp4?apikey=acme-roadrunner\",\"high\":\"https://download.ted.com/talks/JiaJiang_2015X-480p-lv.mp4?apikey=acme-roadrunner\"},\"uz\":{\"name\":\"Uzbek\",\"low\":\"https://download.ted.com/talks/JiaJiang_2015X-low-uz.mp4?apikey=acme-roadrunner\",\"high\":\"https://download.ted.com/talks/JiaJiang_2015X-480p-uz.mp4?apikey=acme-roadrunner\"}},\"videoDownloads\":[{\"url\":\"https://download.ted.com/products/88756.mp4?apikey=acme-roadrunner\",\"height\":180,\"languages\":[{\"code\":\"en\",\"name\":\"English\"},{\"code\":\"he\",\"name\":\"Hebrew\"},{\"code\":\"pt-br\",\"name\":\"Portuguese, Brazilian\"},{\"code\":\"ja\",\"name\":\"Japanese\"},{\"code\":\"fa\",\"name\":\"Persian\"},{\"code\":\"da\",\"name\":\"Danish\"},{\"code\":\"es\",\"name\":\"Spanish\"},{\"code\":\"ru\",\"name\":\"Russian\"},{\"code\":\"zh-cn\",\"name\":\"Chinese, Simplified\"},{\"code\":\"sr\",\"name\":\"Serbian\"},{\"code\":\"bg\",\"name\":\"Bulgarian\"},{\"code\":\"ko\",\"name\":\"Korean\"},{\"code\":\"nl\",\"name\":\"Dutch\"},{\"code\":\"ar\",\"name\":\"Arabic\"},{\"code\":\"uk\",\"name\":\"Ukrainian\"},{\"code\":\"tr\",\"name\":\"Turkish\"},{\"code\":\"hr\",\"name\":\"Croatian\"},{\"code\":\"el\",\"name\":\"Greek\"},{\"code\":\"pt\",\"name\":\"Portuguese\"},{\"code\":\"de\",\"name\":\"German\"},{\"code\":\"cs\",\"name\":\"Czech\"},{\"code\":\"zh-tw\",\"name\":\"Chinese, Traditional\"},{\"code\":\"vi\",\"name\":\"Vietnamese\"},{\"code\":\"fr\",\"name\":\"French\"},{\"code\":\"kk\",\"name\":\"Kazakh\"},{\"code\":\"th\",\"name\":\"Thai\"},{\"code\":\"mr\",\"name\":\"Marathi\"},{\"code\":\"ro\",\"name\":\"Romanian\"},{\"code\":\"pl\",\"name\":\"Polish\"},{\"code\":\"it\",\"name\":\"Italian\"},{\"code\":\"mn\",\"name\":\"Mongolian\"},{\"code\":\"ms\",\"name\":\"Malay\"},{\"code\":\"ku\",\"name\":\"Kurdish\"},{\"code\":\"gl\",\"name\":\"Galician\"},{\"code\":\"gu\",\"name\":\"Gujarati\"},{\"code\":\"lv\",\"name\":\"Latvian\"},{\"code\":\"uz\",\"name\":\"Uzbek\"},{\"code\":\"ckb\",\"name\":\"Kurdish (Central)\"}]},{\"url\":\"https://download.ted.com/products/88758.mp4?apikey=acme-roadrunner\",\"height\":480,\"languages\":[{\"code\":\"en\",\"name\":\"English\"},{\"code\":\"he\",\"name\":\"Hebrew\"},{\"code\":\"pt-br\",\"name\":\"Portuguese, Brazilian\"},{\"code\":\"ja\",\"name\":\"Japanese\"},{\"code\":\"fa\",\"name\":\"Persian\"},{\"code\":\"da\",\"name\":\"Danish\"},{\"code\":\"es\",\"name\":\"Spanish\"},{\"code\":\"ru\",\"name\":\"Russian\"},{\"code\":\"zh-cn\",\"name\":\"Chinese, Simplified\"},{\"code\":\"sr\",\"name\":\"Serbian\"},{\"code\":\"bg\",\"name\":\"Bulgarian\"},{\"code\":\"ko\",\"name\":\"Korean\"},{\"code\":\"nl\",\"name\":\"Dutch\"},{\"code\":\"ar\",\"name\":\"Arabic\"},{\"code\":\"uk\",\"name\":\"Ukrainian\"},{\"code\":\"tr\",\"name\":\"Turkish\"},{\"code\":\"hr\",\"name\":\"Croatian\"},{\"code\":\"el\",\"name\":\"Greek\"},{\"code\":\"pt\",\"name\":\"Portuguese\"},{\"code\":\"de\",\"name\":\"German\"},{\"code\":\"cs\",\"name\":\"Czech\"},{\"code\":\"zh-tw\",\"name\":\"Chinese, Traditional\"},{\"code\":\"vi\",\"name\":\"Vietnamese\"},{\"code\":\"fr\",\"name\":\"French\"},{\"code\":\"kk\",\"name\":\"Kazakh\"},{\"code\":\"th\",\"name\":\"Thai\"},{\"code\":\"mr\",\"name\":\"Marathi\"},{\"code\":\"ro\",\"name\":\"Romanian\"},{\"code\":\"pl\",\"name\":\"Polish\"},{\"code\":\"it\",\"name\":\"Italian\"},{\"code\":\"mn\",\"name\":\"Mongolian\"},{\"code\":\"ms\",\"name\":\"Malay\"},{\"code\":\"ku\",\"name\":\"Kurdish\"},{\"code\":\"gl\",\"name\":\"Galician\"},{\"code\":\"gu\",\"name\":\"Gujarati\"},{\"code\":\"lv\",\"name\":\"Latvian\"},{\"code\":\"uz\",\"name\":\"Uzbek\"},{\"code\":\"ckb\",\"name\":\"Kurdish (Central)\"}]},{\"url\":\"https://download.ted.com/products/88759.mp4?apikey=acme-roadrunner\",\"height\":1080,\"languages\":[{\"code\":\"en\",\"name\":\"English\"},{\"code\":\"he\",\"name\":\"Hebrew\"},{\"code\":\"pt-br\",\"name\":\"Portuguese, Brazilian\"},{\"code\":\"ja\",\"name\":\"Japanese\"},{\"code\":\"fa\",\"name\":\"Persian\"},{\"code\":\"da\",\"name\":\"Danish\"},{\"code\":\"es\",\"name\":\"Spanish\"},{\"code\":\"ru\",\"name\":\"Russian\"},{\"code\":\"zh-cn\",\"name\":\"Chinese, Simplified\"},{\"code\":\"sr\",\"name\":\"Serbian\"},{\"code\":\"bg\",\"name\":\"Bulgarian\"},{\"code\":\"ko\",\"name\":\"Korean\"},{\"code\":\"nl\",\"name\":\"Dutch\"},{\"code\":\"ar\",\"name\":\"Arabic\"},{\"code\":\"uk\",\"name\":\"Ukrainian\"},{\"code\":\"tr\",\"name\":\"Turkish\"},{\"code\":\"hr\",\"name\":\"Croatian\"},{\"code\":\"el\",\"name\":\"Greek\"},{\"code\":\"pt\",\"name\":\"Portuguese\"},{\"code\":\"de\",\"name\":\"German\"},{\"code\":\"cs\",\"name\":\"Czech\"},{\"code\":\"zh-tw\",\"name\":\"Chinese, Traditional\"},{\"code\":\"vi\",\"name\":\"Vietnamese\"},{\"code\":\"fr\",\"name\":\"French\"},{\"code\":\"kk\",\"name\":\"Kazakh\"},{\"code\":\"th\",\"name\":\"Thai\"},{\"code\":\"mr\",\"name\":\"Marathi\"},{\"code\":\"ro\",\"name\":\"Romanian\"},{\"code\":\"pl\",\"name\":\"Polish\"},{\"code\":\"it\",\"name\":\"Italian\"},{\"code\":\"mn\",\"name\":\"Mongolian\"},{\"code\":\"ms\",\"name\":\"Malay\"},{\"code\":\"ku\",\"name\":\"Kurdish\"},{\"code\":\"gl\",\"name\":\"Galician\"},{\"code\":\"gu\",\"name\":\"Gujarati\"},{\"code\":\"lv\",\"name\":\"Latvian\"},{\"code\":\"uz\",\"name\":\"Uzbek\"},{\"code\":\"ckb\",\"name\":\"Kurdish (Central)\"}]}],\"audioDownload\":\"https://download.ted.com/talks/JiaJiang_2015X.mp3?apikey=acme-roadrunner\"},\"duration\":931,\"event\":\"TEDxMtHood\",\"institute_partner_name\":null,\"salon_partner_name\":null,\"event_badge\":null,\"is_featured\":true,\"hero\":\"https://s3.amazonaws.com/talkstar-photos/uploads/c4a42ee3-cf78-419d-88a0-cd5194b4432a/JiaJiang_2015X-embed.jpg\",\"hero_load\":\"https://pi.tedcdn.com/r/talkstar-photos.s3.amazonaws.com/uploads/c4a42ee3-cf78-419d-88a0-cd5194b4432a/JiaJiang_2015X-embed.jpg?q=50&w=15\",\"id\":\"2638\",\"player_talks\":[{\"id\":\"2638\",\"mediaIdentifier\":\"JiaJiang_2015X\",\"mediaProjectVersionIdentifier\":\"consus-pm2722-im2346\",\"duration\":931,\"languages\":[{\"languageName\":\"English\",\"endonym\":\"English\",\"languageCode\":\"en\",\"ianaCode\":\"en\",\"isRtl\":false},{\"languageName\":\"Hebrew\",\"endonym\":\"עברית\",\"languageCode\":\"he\",\"ianaCode\":\"he\",\"isRtl\":true},{\"languageName\":\"Portuguese, Brazilian\",\"endonym\":\"Português brasileiro\",\"languageCode\":\"pt-br\",\"ianaCode\":\"pt-BR\",\"isRtl\":false},{\"languageName\":\"Japanese\",\"endonym\":\"日本語\",\"languageCode\":\"ja\",\"ianaCode\":\"ja\",\"isRtl\":false},{\"languageName\":\"Persian\",\"endonym\":\"فارسى\",\"languageCode\":\"fa\",\"ianaCode\":\"fa\",\"isRtl\":true},{\"languageName\":\"Danish\",\"endonym\":\"Dansk\",\"languageCode\":\"da\",\"ianaCode\":\"da\",\"isRtl\":false},{\"languageName\":\"Spanish\",\"endonym\":\"Español\",\"languageCode\":\"es\",\"ianaCode\":\"es\",\"isRtl\":false},{\"languageName\":\"Russian\",\"endonym\":\"Русский\",\"languageCode\":\"ru\",\"ianaCode\":\"ru\",\"isRtl\":false},{\"languageName\":\"Chinese, Simplified\",\"endonym\":\"中文 (简体)\",\"languageCode\":\"zh-cn\",\"ianaCode\":\"zh-Hans\",\"isRtl\":false},{\"languageName\":\"Serbian\",\"endonym\":\"Српски, Srpski\",\"languageCode\":\"sr\",\"ianaCode\":\"sr\",\"isRtl\":false},{\"languageName\":\"Bulgarian\",\"endonym\":\"български\",\"languageCode\":\"bg\",\"ianaCode\":\"bg\",\"isRtl\":false},{\"languageName\":\"Korean\",\"endonym\":\"한국어\",\"languageCode\":\"ko\",\"ianaCode\":\"ko\",\"isRtl\":false},{\"languageName\":\"Dutch\",\"endonym\":\"Nederlands\",\"languageCode\":\"nl\",\"ianaCode\":\"nl\",\"isRtl\":false},{\"languageName\":\"Arabic\",\"endonym\":\"العربية\",\"languageCode\":\"ar\",\"ianaCode\":\"ar\",\"isRtl\":true},{\"languageName\":\"Ukrainian\",\"endonym\":\"Українська\",\"languageCode\":\"uk\",\"ianaCode\":\"uk\",\"isRtl\":false},{\"languageName\":\"Turkish\",\"endonym\":\"Türkçe\",\"languageCode\":\"tr\",\"ianaCode\":\"tr\",\"isRtl\":false},{\"languageName\":\"Croatian\",\"endonym\":\"Hrvatski\",\"languageCode\":\"hr\",\"ianaCode\":\"hr\",\"isRtl\":false},{\"languageName\":\"Greek\",\"endonym\":\"Ελληνικά\",\"languageCode\":\"el\",\"ianaCode\":\"el\",\"isRtl\":false},{\"languageName\":\"Portuguese\",\"endonym\":\"Português de Portugal\",\"languageCode\":\"pt\",\"ianaCode\":\"pt\",\"isRtl\":false},{\"languageName\":\"German\",\"endonym\":\"Deutsch\",\"languageCode\":\"de\",\"ianaCode\":\"de\",\"isRtl\":false},{\"languageName\":\"Czech\",\"endonym\":\"Čeština\",\"languageCode\":\"cs\",\"ianaCode\":\"cs\",\"isRtl\":false},{\"languageName\":\"Chinese, Traditional\",\"endonym\":\"中文 (繁體)\",\"languageCode\":\"zh-tw\",\"ianaCode\":\"zh-Hant\",\"isRtl\":false},{\"languageName\":\"Vietnamese\",\"endonym\":\"Tiếng Việt\",\"languageCode\":\"vi\",\"ianaCode\":\"vi\",\"isRtl\":false},{\"languageName\":\"French\",\"endonym\":\"Français\",\"languageCode\":\"fr\",\"ianaCode\":\"fr\",\"isRtl\":false},{\"languageName\":\"Kazakh\",\"endonym\":\"Қазақ тілі\",\"languageCode\":\"kk\",\"ianaCode\":\"kk\",\"isRtl\":false},{\"languageName\":\"Thai\",\"endonym\":\"ภาษาไทย\",\"languageCode\":\"th\",\"ianaCode\":\"th\",\"isRtl\":false},{\"languageName\":\"Marathi\",\"endonym\":\"मराठी\",\"languageCode\":\"mr\",\"ianaCode\":\"mr\",\"isRtl\":false},{\"languageName\":\"Romanian\",\"endonym\":\"Română\",\"languageCode\":\"ro\",\"ianaCode\":\"ro\",\"isRtl\":false},{\"languageName\":\"Polish\",\"endonym\":\"Polski\",\"languageCode\":\"pl\",\"ianaCode\":\"pl\",\"isRtl\":false},{\"languageName\":\"Italian\",\"endonym\":\"Italiano\",\"languageCode\":\"it\",\"ianaCode\":\"it\",\"isRtl\":false},{\"languageName\":\"Mongolian\",\"endonym\":\"Монгол\",\"languageCode\":\"mn\",\"ianaCode\":\"mn\",\"isRtl\":false},{\"languageName\":\"Malay\",\"endonym\":\"Bahasa melayu\",\"languageCode\":\"ms\",\"ianaCode\":\"ms\",\"isRtl\":false},{\"languageName\":\"Kurdish\",\"endonym\":\"کوردی\",\"languageCode\":\"ku\",\"ianaCode\":\"ku\",\"isRtl\":true},{\"languageName\":\"Galician\",\"endonym\":\"Galego\",\"languageCode\":\"gl\",\"ianaCode\":\"gl\",\"isRtl\":false},{\"languageName\":\"Gujarati\",\"endonym\":\"ગુજરાતી\",\"languageCode\":\"gu\",\"ianaCode\":\"gu\",\"isRtl\":false},{\"languageName\":\"Latvian\",\"endonym\":\"Latviešu\",\"languageCode\":\"lv\",\"ianaCode\":\"lv\",\"isRtl\":false},{\"languageName\":\"Uzbek\",\"endonym\":\"O'zbek\",\"languageCode\":\"uz\",\"ianaCode\":\"uz\",\"isRtl\":false},{\"languageName\":\"Kurdish (Central)\",\"endonym\":\"کوردی سۆرانی\",\"languageCode\":\"ckb\",\"ianaCode\":\"ku-ckb\",\"isRtl\":true}],\"nativeLanguage\":\"en\",\"isSubtitleRequired\":false,\"resources\":{\"h264\":[{\"bitrate\":1200,\"file\":\"https://py.tedcdn.com/consus/projects/00/27/10/007/products/2015x-jia-jiang-007-fallback-1e7ca7cd68933219b4db17fa9a1f64d1-1200k.mp4\"}],\"hls\":{\"adUrl\":\"https://pubads.g.doubleclick.net/gampad/ads?ciu_szs=300x250%2C512x288%2C120x60%2C320x50%2C6x7%2C6x8&correlator=%5Bcorrelator%5D&cust_params=event%3DTEDxMtHood%26id%3D2638%26tag%3Dcreativity%2Ccuriosity%2Cfear%2Chumanity%2Cinnovation%2Centrepreneur%2Cmotivation%2Cpersonal%2Bgrowth%2Csociology%2CTEDx%2Cteaching%2Cgoals%26talk%3Djia_jiang_what_i_learned_from_100_days_of_rejection%26year%3D2015&env=vp&gdfp_req=1&impl=s&iu=%2F5641%2Fmobile%2Fios%2Fweb&output=xml_vast2&sz=640x360&unviewed_position_start=1&url=%5Breferrer%5D\",\"maiTargeting\":{\"id\":\"2638\",\"talk\":\"jia_jiang_what_i_learned_from_100_days_of_rejection\",\"tag\":\"creativity,curiosity,fear,humanity,innovation,entrepreneur,motivation,personal growth,sociology,TEDx,teaching,goals\",\"year\":\"2015\",\"event\":\"TEDxMtHood\"},\"stream\":\"https://hls.ted.com/project_masters/2722/manifest.m3u8?intro_master_id=2346\",\"metadata\":\"https://hls.ted.com/project_masters/2722/metadata.json?intro_master_id=2346\"}},\"targeting\":{\"id\":\"2638\",\"talk\":\"jia_jiang_what_i_learned_from_100_days_of_rejection\",\"tag\":\"creativity,curiosity,fear,humanity,innovation,entrepreneur,motivation,personal growth,sociology,TEDx,teaching,goals\",\"year\":\"2015\",\"event\":\"TEDxMtHood\"},\"canonical\":\"https://www.ted.com/talks/jia_jiang_what_i_learned_from_100_days_of_rejection\",\"name\":\"Jia Jiang: What I learned from 100 days of rejection\",\"title\":\"What I learned from 100 days of rejection\",\"speaker\":\"Jia Jiang\",\"thumb\":\"https://pi.tedcdn.com/r/talkstar-photos.s3.amazonaws.com/uploads/c4a42ee3-cf78-419d-88a0-cd5194b4432a/JiaJiang_2015X-embed.jpg?quality=89&w=600\",\"slug\":\"jia_jiang_what_i_learned_from_100_days_of_rejection\",\"event\":\"TEDxMtHood\",\"published\":1481128243,\"external\":{\"service\":\"YouTube\",\"code\":\"-vZXgApsPCQ\",\"duration\":932.0,\"start_time\":0.0}}],\"recorded_at\":\"2015-05-02T00:00:00.000+00:00\",\"related_talks\":[{\"id\":\"2193\",\"hero\":\"https://pe.tedcdn.com/images/ted/b33233cca0742b55981bdc8a9b7c8f17eb919268_2880x1620.jpg\",\"speaker\":\"Guy Winch\",\"title\":\"Why we all need to practice emotional first aid\",\"duration\":1044,\"slug\":\"guy_winch_why_we_all_need_to_practice_emotional_first_aid\",\"viewed_count\":12134678},{\"id\":\"1983\",\"hero\":\"https://pe.tedcdn.com/images/ted/aa39c73bae9d19372ed2059e7c8b0b7eb9099865_1600x1200.jpg\",\"speaker\":\"Elizabeth Gilbert\",\"title\":\"Success, failure and the drive to keep creating\",\"duration\":438,\"slug\":\"elizabeth_gilbert_success_failure_and_the_drive_to_keep_creating\",\"viewed_count\":5604571},{\"id\":\"767\",\"hero\":\"https://s3.amazonaws.com/talkstar-photos/uploads/5cd9cb00-9df3-4da0-b857-c31eb159ccda/BillGates_2010-embed.jpg\",\"speaker\":\"Bill Gates\",\"title\":\"Innovating to zero!\",\"duration\":1669,\"slug\":\"bill_gates_innovating_to_zero\",\"viewed_count\":7917369},{\"id\":\"2182\",\"hero\":\"https://pe.tedcdn.com/images/ted/07ece83dd77f758dd2c92e3fcb0ee6b404dc49a2_2880x1620.jpg\",\"speaker\":\"Ricardo Semler\",\"title\":\"How to run a company with (almost) no rules\",\"duration\":1302,\"slug\":\"ricardo_semler_how_to_run_a_company_with_almost_no_rules\",\"viewed_count\":3651265},{\"id\":\"2332\",\"hero\":\"https://pe.tedcdn.com/images/ted/5023bc560bc149e7aad56c8dca0f47671b005699_2880x1620.jpg\",\"speaker\":\"Scott Dinsmore\",\"title\":\"How to find work you love\",\"duration\":1067,\"slug\":\"scott_dinsmore_how_to_find_work_you_love\",\"viewed_count\":7203510},{\"id\":\"27622\",\"hero\":\"https://s3.amazonaws.com/talkstar-photos/uploads/a36b26e9-bb65-41b6-8ca0-7cff68421f4c/ChiehHuang_2018S-embed.jpg\",\"speaker\":\"Chieh Huang\",\"title\":\"Confessions of a recovering micromanager\",\"duration\":727,\"slug\":\"chieh_huang_confessions_of_a_recovering_micromanager\",\"viewed_count\":2250397}],\"slug\":\"jia_jiang_what_i_learned_from_100_days_of_rejection\",\"speakers\":[{\"id\":\"3169\",\"slug\":\"jia_jiang\",\"is_published\":true,\"firstname\":\"Jia\",\"lastname\":\"Jiang\",\"middleinitial\":\"\",\"title\":\"\",\"description\":\"Author, blogger, entrepreneur\",\"photo_url\":\"https://pe.tedcdn.com/images/ted/2e15ee561aed9b4483306c01737614cd92b3b693_254x191.jpg\",\"whatotherssay\":\"\",\"whotheyare\":\"Jia Jiang's journey through rejection revealed a world hidden in plain sight, where people are much kinder than we imagine.\",\"whylisten\":\"<p>Jia Jiang is the owner of&nbsp;<a href=\\\"http://rejectiontherapy.com/\\\" target=\\\"_blank\\\">Rejection Therapy</a>, a website that provides inspiration, knowledge and products for people to overcome their fear of rejection. He is also the CEO of&nbsp;<a href=\\\"http://www.wujulearning.com/\\\" target=\\\"_blank\\\">Wuju Learning</a>, a company that teaches people and trains organizations to become fearless through rejection training. In 2015, he authored a bestselling book,&nbsp;<a href=\\\"http://geni.us/mFqe\\\" target=\\\"_blank\\\"><em>Rejection Proof: How I Beat Fear and Became Invincible Through 100 Days of Rejection</em></a>.</p><p>Several years after Jiang began his career in the corporate world, he took a life-altering risk and stepped into the unknown world of entrepreneurship. His result was everyone&#39;s biggest fear: rejection. This was the catalyst that set Jiang on the path to his true calling.</p><p>To conquer the fear of rejection, Jiang embarked on a personal quest and started a blog,&nbsp;<a href=\\\"http://rejectiontherapy.com/100-days-of-rejection-therapy/\\\" target=\\\"_blank\\\">100 Days of Rejection Therapy</a>. His journey revealed a world that was hidden in plain sight --&nbsp;a world where people are much kinder than we imagine. He discovered that rejection can be much less painful than we believe&nbsp;and that the fear of rejection is much more destructive than we know.</p><p>Jiang grew up in Beijing, China and migrated to the United States at age 16. He holds a Bachelor of Computer Science from Brigham Young University and a Master of Business Administration from Duke University.</p>\"}],\"speaker_name\":\"Jia Jiang\",\"tags\":[\"creativity\",\"curiosity\",\"fear\",\"humanity\",\"innovation\",\"entrepreneur\",\"motivation\",\"personal growth\",\"sociology\",\"TEDx\",\"teaching\",\"goals\"],\"title\":\"What I learned from 100 days of rejection\",\"video_type\":{\"id\":\"2\",\"name\":\"TEDx Talk\"},\"viewed_count\":8187954}]}})</script>\n"
     ]
    }
   ],
   "source": [
    "print(result)"
   ]
  },
  {
   "cell_type": "code",
   "execution_count": 6,
   "id": "1f5c0ee7",
   "metadata": {},
   "outputs": [
    {
     "name": "stdout",
     "output_type": "stream",
     "text": [
      "https://download.ted.com/products/88756.mp4?apikey=acme-roadrunner\",\"medium\":\"https://download.ted.com/products/88758.mp4?apikey=acme-roadrunner\",\"high\":\"https://download.ted.com/products/88759.mp4?apikey=acme-roadrunner\"},\"subtitledDownloads\":{\"en\":{\"name\":\"English\",\"low\":\"https://download.ted.com/talks/JiaJiang_2015X-low-en.mp4?apikey=acme-roadrunner\",\"high\":\"https://download.ted.com/talks/JiaJiang_2015X-480p-en.mp4?apikey=acme-roadrunner\"},\"he\":{\"name\":\"Hebrew\",\"low\":\"https://download.ted.com/talks/JiaJiang_2015X-low-he.mp4?apikey=acme-roadrunner\",\"high\":\"https://download.ted.com/talks/JiaJiang_2015X-480p-he.\n"
     ]
    }
   ],
   "source": [
    "# extract the mp4 from the result string\n",
    "result_mp4 = re.search(\"(?P<url>https?://[^\\s]+)(mp4)\", result).group(\"url\")\n",
    "\n",
    "print(result_mp4)"
   ]
  },
  {
   "cell_type": "code",
   "execution_count": 8,
   "id": "1e71a744",
   "metadata": {},
   "outputs": [
    {
     "name": "stdout",
     "output_type": "stream",
     "text": [
      "https://download.ted.com/products/88756.mp4?apikey=acme-roadrunner\n"
     ]
    }
   ],
   "source": [
    "mp4_url = result_mp4.split('\"')[0]\n",
    "print(mp4_url)"
   ]
  },
  {
   "cell_type": "code",
   "execution_count": 10,
   "id": "4e7dc746",
   "metadata": {},
   "outputs": [
    {
     "name": "stdout",
     "output_type": "stream",
     "text": [
      "88756.mp4\n"
     ]
    }
   ],
   "source": [
    "file_name = mp4_url.split(\"/\")[len(mp4_url.split(\"/\"))-1].split('?')[0]\n",
    "print(file_name)"
   ]
  },
  {
   "cell_type": "code",
   "execution_count": 11,
   "id": "b5549a3b",
   "metadata": {},
   "outputs": [
    {
     "name": "stdout",
     "output_type": "stream",
     "text": [
      "Downloading video from ... https://download.ted.com/products/88756.mp4?apikey=acme-roadrunner\n",
      "Storing video in ...88756.mp4\n"
     ]
    }
   ],
   "source": [
    "print(\"Downloading video from ... \" + mp4_url)\n",
    "print(\"Storing video in ...\" + file_name)"
   ]
  },
  {
   "cell_type": "markdown",
   "id": "a6d20e4c",
   "metadata": {},
   "source": [
    "Download the mp4"
   ]
  },
  {
   "cell_type": "code",
   "execution_count": 12,
   "id": "e798acbe",
   "metadata": {},
   "outputs": [
    {
     "name": "stdout",
     "output_type": "stream",
     "text": [
      "Download Process is finished\n"
     ]
    }
   ],
   "source": [
    "r = requests.get(mp4_url)\n",
    "\n",
    "with open(file_name,'wb') as f:\n",
    "    f.write(r.content)\n",
    "    \n",
    "print(\"Download Process is finished\")"
   ]
  },
  {
   "cell_type": "markdown",
   "id": "b3ca97ba",
   "metadata": {},
   "source": [
    "To run the .py version of the script. In terminal run:\n",
    "\n",
    "python3 \\<script name\\>.py \"\\<url\\>\""
   ]
  }
 ],
 "metadata": {
  "kernelspec": {
   "display_name": "Python 3",
   "language": "python",
   "name": "python3"
  },
  "language_info": {
   "codemirror_mode": {
    "name": "ipython",
    "version": 3
   },
   "file_extension": ".py",
   "mimetype": "text/x-python",
   "name": "python",
   "nbconvert_exporter": "python",
   "pygments_lexer": "ipython3",
   "version": "3.8.9"
  }
 },
 "nbformat": 4,
 "nbformat_minor": 5
}
