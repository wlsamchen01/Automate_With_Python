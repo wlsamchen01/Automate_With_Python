{
 "cells": [
  {
   "cell_type": "markdown",
   "id": "19b96040",
   "metadata": {},
   "source": [
    "- Pillow is the Python 3 friendly fork of the original PIL (Python Image Library).\n",
    "- If you are going to use Pillow, make sure you don't have PIL in the same computer.\n",
    "\n",
    "- We are going to use glob to identify image files in our directory.\n"
   ]
  },
  {
   "cell_type": "code",
   "execution_count": null,
   "id": "8d0d3717",
   "metadata": {},
   "outputs": [],
   "source": [
    "# import PIL instead of PIL\n",
    "import PIL\n",
    "\n",
    "import glob"
   ]
  },
  {
   "cell_type": "code",
   "execution_count": null,
   "id": "9ac2dc8f",
   "metadata": {},
   "outputs": [],
   "source": [
    "print(glob.glob(\"*.png\"))"
   ]
  },
  {
   "cell_type": "code",
   "execution_count": null,
   "id": "ff12501c",
   "metadata": {},
   "outputs": [],
   "source": [
    "# based on SO Answer: https://stackoverflow.com/a/43258974/5086335\n",
    "for file in glob.glob(\"*.png\"):\n",
    "    im = Image.open(file)\n",
    "    rgb_im = im.convert('RGB')\n",
    "    rgb_im.save(file.replace('png', 'jpg'), quality=95)"
   ]
  }
 ],
 "metadata": {
  "kernelspec": {
   "display_name": "Python 3",
   "language": "python",
   "name": "python3"
  },
  "language_info": {
   "codemirror_mode": {
    "name": "ipython",
    "version": 3
   },
   "file_extension": ".py",
   "mimetype": "text/x-python",
   "name": "python",
   "nbconvert_exporter": "python",
   "pygments_lexer": "ipython3",
   "version": "3.8.9"
  }
 },
 "nbformat": 4,
 "nbformat_minor": 5
}
