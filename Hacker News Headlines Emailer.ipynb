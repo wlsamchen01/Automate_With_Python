{
 "cells": [
  {
   "cell_type": "markdown",
   "id": "c23fad2c",
   "metadata": {},
   "source": [
    "https://www.youtube.com/watch?v=s8XjEuplx_U"
   ]
  },
  {
   "cell_type": "code",
   "execution_count": null,
   "id": "16186346",
   "metadata": {},
   "outputs": [],
   "source": [
    "import requests # http requests\n",
    "\n",
    "from bs4 import BeautifulSoup #web scrapping\n",
    "\n",
    "# Send the email\n",
    "import smtplib\n",
    "\n",
    "# email body\n",
    "from email.mime.multipart import MIMEMultipart\n",
    "from email.mime.text import MIMEText\n",
    "\n",
    "#system date and time manipulation\n",
    "import datetime\n"
   ]
  },
  {
   "cell_type": "code",
   "execution_count": null,
   "id": "bd67da8e",
   "metadata": {},
   "outputs": [],
   "source": [
    "now = datetime.datetime.now()\n",
    "print(now)"
   ]
  },
  {
   "cell_type": "code",
   "execution_count": null,
   "id": "58766e24",
   "metadata": {},
   "outputs": [],
   "source": [
    "# email content placeholder\n",
    "content = ''"
   ]
  },
  {
   "cell_type": "code",
   "execution_count": null,
   "id": "85705dbd",
   "metadata": {},
   "outputs": [],
   "source": [
    "# extracting Hacker News Stories\n",
    "def extract_news(url):\n",
    "    print('Extracting Hacker News Stories...')\n",
    "    cnt = ''\n",
    "    cnt += ('<b>HB Top Stories:</b>\\n'+'<br>'+'_'*50+'<br>')\n",
    "    response = requests.get(url)\n",
    "    content = response.content\n",
    "    soup = BeautifulSoup(content, 'html.parser')\n",
    "    for i, tag in enumerate(soup.find_all('td', attrs={'class': 'title', 'valign': ''})):\n",
    "        cnt += ((str(i+1)+' :: '+tag.text + \"\\n\" + '<br>') if tag.text!='More' else '')\n",
    "        \n",
    "    return (cnt)"
   ]
  },
  {
   "cell_type": "code",
   "execution_count": null,
   "id": "6ef68bb2",
   "metadata": {},
   "outputs": [],
   "source": [
    "cnt = extract_news('https://news.ycombinator.com/')\n",
    "content += cnt\n",
    "content += ('<br>-----<br>')\n",
    "content += ('<br><br>End of Message')\n",
    "\n",
    "print(content)"
   ]
  },
  {
   "cell_type": "markdown",
   "id": "148e8caf",
   "metadata": {},
   "source": [
    "# Email Authentication"
   ]
  },
  {
   "cell_type": "code",
   "execution_count": null,
   "id": "4f11f4da",
   "metadata": {},
   "outputs": [],
   "source": [
    "# lets send the email\n",
    "print('Composing Email')"
   ]
  },
  {
   "cell_type": "code",
   "execution_count": null,
   "id": "59d6344a",
   "metadata": {},
   "outputs": [],
   "source": [
    "# update your email details\n",
    "SERVER = 'smtp.gmail.com' # \"your smtp server\"\n",
    "PORT = 587 # your port number. 587 is for gmail\n",
    "FROM = '' # \"your from email id\"\n",
    "TO = '' # \"your email to ids\" # can be a list\n",
    "PASS = '' # \"your email id's password\""
   ]
  },
  {
   "cell_type": "markdown",
   "id": "e8a9d44a",
   "metadata": {},
   "source": [
    "Create the components of the email using MIMEMultipart()"
   ]
  },
  {
   "cell_type": "code",
   "execution_count": null,
   "id": "9cb68050",
   "metadata": {},
   "outputs": [],
   "source": [
    "#MIMEMultipart() creates a \"message body\"\n",
    "msg = MIMEMultipart()\n",
    "\n",
    "# an email has attributes like 'Subject', 'From' and 'To' attributes\n",
    "msg['Subject'] = 'Top News Stories HN [Automated Email]' + ' ' + str(now.day)+\\\n",
    "'-' + str(now.month) + '-' + str(now.year)\n",
    "msg['From'] = FROM\n",
    "msg['To'] = TO\n",
    "\n",
    "# we are using an html email. \n",
    "msg.attach(MIMEText(content, 'html'))\n",
    "\n"
   ]
  },
  {
   "cell_type": "markdown",
   "id": "e03e597e",
   "metadata": {},
   "source": [
    "Authentication and sending email\n",
    "\n",
    "Note: need to enable less secure app access: https://www.google.com/settings/security/lesssecureapps"
   ]
  },
  {
   "cell_type": "code",
   "execution_count": null,
   "id": "6a50f04d",
   "metadata": {},
   "outputs": [],
   "source": [
    "print('Initiating Server...')\n",
    "\n",
    "# user smtplib.SMTP() and tell it what are our SERVER and PORT\n",
    "server = smtplib.SMTP(SERVER, PORT)\n",
    "# See error messages\n",
    "server.set_debuglevel(1)\n",
    "# Identify yourself to an ESMTP server\n",
    "server.ehlo()\n",
    "# Put the SMTP connection in TLS (Transport Layer Security) mode. \n",
    "# All SMTP commands that follow will be encrypted. \n",
    "# You should then call ehlo() again.\n",
    "server.starttls()\n",
    "server.ehlo()\n",
    "server.login(FROM, PASS)\n",
    "server.sendmail(FROM, TO, msg.as_string())\n",
    "\n",
    "print('Email Sent...')\n",
    "\n",
    "server.quit()"
   ]
  },
  {
   "cell_type": "code",
   "execution_count": null,
   "id": "42b7bc81",
   "metadata": {},
   "outputs": [],
   "source": []
  }
 ],
 "metadata": {
  "kernelspec": {
   "display_name": "Python 3",
   "language": "python",
   "name": "python3"
  },
  "language_info": {
   "codemirror_mode": {
    "name": "ipython",
    "version": 3
   },
   "file_extension": ".py",
   "mimetype": "text/x-python",
   "name": "python",
   "nbconvert_exporter": "python",
   "pygments_lexer": "ipython3",
   "version": "3.8.9"
  }
 },
 "nbformat": 4,
 "nbformat_minor": 5
}
